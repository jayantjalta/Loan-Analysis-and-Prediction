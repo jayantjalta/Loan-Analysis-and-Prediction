{
 "cells": [
  {
   "cell_type": "code",
   "execution_count": 1,
   "metadata": {},
   "outputs": [
    {
     "name": "stderr",
     "output_type": "stream",
     "text": [
      "/Users/jayantjalta/Documents/anaconda3/lib/python3.7/site-packages/sklearn/externals/six.py:31: FutureWarning: The module is deprecated in version 0.21 and will be removed in version 0.23 since we've dropped support for Python 2.7. Please rely on the official version of six (https://pypi.org/project/six/).\n",
      "  \"(https://pypi.org/project/six/).\", FutureWarning)\n"
     ]
    }
   ],
   "source": [
    "#importing necessary libraries\n",
    "import pandas as pd\n",
    "import matplotlib.pyplot as plt\n",
    "import seaborn as sns\n",
    "%matplotlib inline\n",
    "import graphviz\n",
    "from sklearn.tree import DecisionTreeClassifier, export_graphviz\n",
    "from sklearn.ensemble import RandomForestClassifier\n",
    "from sklearn import tree\n",
    "from sklearn.model_selection import train_test_split,GridSearchCV\n",
    "from sklearn.preprocessing import StandardScaler\n",
    "from sklearn.metrics import accuracy_score, confusion_matrix, roc_curve, roc_auc_score\n",
    "from sklearn.externals.six import StringIO  \n",
    "from IPython.display import Image  \n",
    "from sklearn.tree import export_graphviz\n",
    "import pydotplus\n",
    "from sklearn.feature_selection import mutual_info_classif\n",
    "from sklearn.metrics import classification_report,confusion_matrix\n",
    "import numpy as np\n",
    "from sklearn.feature_selection import SelectKBest"
   ]
  },
  {
   "cell_type": "code",
   "execution_count": 2,
   "metadata": {},
   "outputs": [],
   "source": [
    "df=pd.read_csv('loan_data.csv')"
   ]
  },
  {
   "cell_type": "code",
   "execution_count": 3,
   "metadata": {},
   "outputs": [
    {
     "data": {
      "text/html": [
       "<div>\n",
       "<style scoped>\n",
       "    .dataframe tbody tr th:only-of-type {\n",
       "        vertical-align: middle;\n",
       "    }\n",
       "\n",
       "    .dataframe tbody tr th {\n",
       "        vertical-align: top;\n",
       "    }\n",
       "\n",
       "    .dataframe thead th {\n",
       "        text-align: right;\n",
       "    }\n",
       "</style>\n",
       "<table border=\"1\" class=\"dataframe\">\n",
       "  <thead>\n",
       "    <tr style=\"text-align: right;\">\n",
       "      <th></th>\n",
       "      <th>credit.policy</th>\n",
       "      <th>purpose</th>\n",
       "      <th>int.rate</th>\n",
       "      <th>installment</th>\n",
       "      <th>log.annual.inc</th>\n",
       "      <th>dti</th>\n",
       "      <th>fico</th>\n",
       "      <th>days.with.cr.line</th>\n",
       "      <th>revol.bal</th>\n",
       "      <th>revol.util</th>\n",
       "      <th>inq.last.6mths</th>\n",
       "      <th>delinq.2yrs</th>\n",
       "      <th>pub.rec</th>\n",
       "      <th>not.fully.paid</th>\n",
       "    </tr>\n",
       "  </thead>\n",
       "  <tbody>\n",
       "    <tr>\n",
       "      <th>0</th>\n",
       "      <td>1</td>\n",
       "      <td>debt_consolidation</td>\n",
       "      <td>0.1189</td>\n",
       "      <td>829.10</td>\n",
       "      <td>11.350407</td>\n",
       "      <td>19.48</td>\n",
       "      <td>737</td>\n",
       "      <td>5639.958333</td>\n",
       "      <td>28854</td>\n",
       "      <td>52.1</td>\n",
       "      <td>0</td>\n",
       "      <td>0</td>\n",
       "      <td>0</td>\n",
       "      <td>0</td>\n",
       "    </tr>\n",
       "    <tr>\n",
       "      <th>1</th>\n",
       "      <td>1</td>\n",
       "      <td>credit_card</td>\n",
       "      <td>0.1071</td>\n",
       "      <td>228.22</td>\n",
       "      <td>11.082143</td>\n",
       "      <td>14.29</td>\n",
       "      <td>707</td>\n",
       "      <td>2760.000000</td>\n",
       "      <td>33623</td>\n",
       "      <td>76.7</td>\n",
       "      <td>0</td>\n",
       "      <td>0</td>\n",
       "      <td>0</td>\n",
       "      <td>0</td>\n",
       "    </tr>\n",
       "    <tr>\n",
       "      <th>2</th>\n",
       "      <td>1</td>\n",
       "      <td>debt_consolidation</td>\n",
       "      <td>0.1357</td>\n",
       "      <td>366.86</td>\n",
       "      <td>10.373491</td>\n",
       "      <td>11.63</td>\n",
       "      <td>682</td>\n",
       "      <td>4710.000000</td>\n",
       "      <td>3511</td>\n",
       "      <td>25.6</td>\n",
       "      <td>1</td>\n",
       "      <td>0</td>\n",
       "      <td>0</td>\n",
       "      <td>0</td>\n",
       "    </tr>\n",
       "    <tr>\n",
       "      <th>3</th>\n",
       "      <td>1</td>\n",
       "      <td>debt_consolidation</td>\n",
       "      <td>0.1008</td>\n",
       "      <td>162.34</td>\n",
       "      <td>11.350407</td>\n",
       "      <td>8.10</td>\n",
       "      <td>712</td>\n",
       "      <td>2699.958333</td>\n",
       "      <td>33667</td>\n",
       "      <td>73.2</td>\n",
       "      <td>1</td>\n",
       "      <td>0</td>\n",
       "      <td>0</td>\n",
       "      <td>0</td>\n",
       "    </tr>\n",
       "    <tr>\n",
       "      <th>4</th>\n",
       "      <td>1</td>\n",
       "      <td>credit_card</td>\n",
       "      <td>0.1426</td>\n",
       "      <td>102.92</td>\n",
       "      <td>11.299732</td>\n",
       "      <td>14.97</td>\n",
       "      <td>667</td>\n",
       "      <td>4066.000000</td>\n",
       "      <td>4740</td>\n",
       "      <td>39.5</td>\n",
       "      <td>0</td>\n",
       "      <td>1</td>\n",
       "      <td>0</td>\n",
       "      <td>0</td>\n",
       "    </tr>\n",
       "  </tbody>\n",
       "</table>\n",
       "</div>"
      ],
      "text/plain": [
       "   credit.policy             purpose  int.rate  installment  log.annual.inc  \\\n",
       "0              1  debt_consolidation    0.1189       829.10       11.350407   \n",
       "1              1         credit_card    0.1071       228.22       11.082143   \n",
       "2              1  debt_consolidation    0.1357       366.86       10.373491   \n",
       "3              1  debt_consolidation    0.1008       162.34       11.350407   \n",
       "4              1         credit_card    0.1426       102.92       11.299732   \n",
       "\n",
       "     dti  fico  days.with.cr.line  revol.bal  revol.util  inq.last.6mths  \\\n",
       "0  19.48   737        5639.958333      28854        52.1               0   \n",
       "1  14.29   707        2760.000000      33623        76.7               0   \n",
       "2  11.63   682        4710.000000       3511        25.6               1   \n",
       "3   8.10   712        2699.958333      33667        73.2               1   \n",
       "4  14.97   667        4066.000000       4740        39.5               0   \n",
       "\n",
       "   delinq.2yrs  pub.rec  not.fully.paid  \n",
       "0            0        0               0  \n",
       "1            0        0               0  \n",
       "2            0        0               0  \n",
       "3            0        0               0  \n",
       "4            1        0               0  "
      ]
     },
     "execution_count": 3,
     "metadata": {},
     "output_type": "execute_result"
    }
   ],
   "source": [
    "df.head()"
   ]
  },
  {
   "cell_type": "code",
   "execution_count": 4,
   "metadata": {
    "scrolled": true
   },
   "outputs": [
    {
     "data": {
      "text/html": [
       "<div>\n",
       "<style scoped>\n",
       "    .dataframe tbody tr th:only-of-type {\n",
       "        vertical-align: middle;\n",
       "    }\n",
       "\n",
       "    .dataframe tbody tr th {\n",
       "        vertical-align: top;\n",
       "    }\n",
       "\n",
       "    .dataframe thead th {\n",
       "        text-align: right;\n",
       "    }\n",
       "</style>\n",
       "<table border=\"1\" class=\"dataframe\">\n",
       "  <thead>\n",
       "    <tr style=\"text-align: right;\">\n",
       "      <th></th>\n",
       "      <th>credit.policy</th>\n",
       "      <th>int.rate</th>\n",
       "      <th>installment</th>\n",
       "      <th>log.annual.inc</th>\n",
       "      <th>dti</th>\n",
       "      <th>fico</th>\n",
       "      <th>days.with.cr.line</th>\n",
       "      <th>revol.bal</th>\n",
       "      <th>revol.util</th>\n",
       "      <th>inq.last.6mths</th>\n",
       "      <th>delinq.2yrs</th>\n",
       "      <th>pub.rec</th>\n",
       "      <th>not.fully.paid</th>\n",
       "    </tr>\n",
       "  </thead>\n",
       "  <tbody>\n",
       "    <tr>\n",
       "      <th>count</th>\n",
       "      <td>9578.000000</td>\n",
       "      <td>9578.000000</td>\n",
       "      <td>9578.000000</td>\n",
       "      <td>9578.000000</td>\n",
       "      <td>9578.000000</td>\n",
       "      <td>9578.000000</td>\n",
       "      <td>9578.000000</td>\n",
       "      <td>9.578000e+03</td>\n",
       "      <td>9578.000000</td>\n",
       "      <td>9578.000000</td>\n",
       "      <td>9578.000000</td>\n",
       "      <td>9578.000000</td>\n",
       "      <td>9578.000000</td>\n",
       "    </tr>\n",
       "    <tr>\n",
       "      <th>mean</th>\n",
       "      <td>0.804970</td>\n",
       "      <td>0.122640</td>\n",
       "      <td>319.089413</td>\n",
       "      <td>10.932117</td>\n",
       "      <td>12.606679</td>\n",
       "      <td>710.846314</td>\n",
       "      <td>4560.767197</td>\n",
       "      <td>1.691396e+04</td>\n",
       "      <td>46.799236</td>\n",
       "      <td>1.577469</td>\n",
       "      <td>0.163708</td>\n",
       "      <td>0.062122</td>\n",
       "      <td>0.160054</td>\n",
       "    </tr>\n",
       "    <tr>\n",
       "      <th>std</th>\n",
       "      <td>0.396245</td>\n",
       "      <td>0.026847</td>\n",
       "      <td>207.071301</td>\n",
       "      <td>0.614813</td>\n",
       "      <td>6.883970</td>\n",
       "      <td>37.970537</td>\n",
       "      <td>2496.930377</td>\n",
       "      <td>3.375619e+04</td>\n",
       "      <td>29.014417</td>\n",
       "      <td>2.200245</td>\n",
       "      <td>0.546215</td>\n",
       "      <td>0.262126</td>\n",
       "      <td>0.366676</td>\n",
       "    </tr>\n",
       "    <tr>\n",
       "      <th>min</th>\n",
       "      <td>0.000000</td>\n",
       "      <td>0.060000</td>\n",
       "      <td>15.670000</td>\n",
       "      <td>7.547502</td>\n",
       "      <td>0.000000</td>\n",
       "      <td>612.000000</td>\n",
       "      <td>178.958333</td>\n",
       "      <td>0.000000e+00</td>\n",
       "      <td>0.000000</td>\n",
       "      <td>0.000000</td>\n",
       "      <td>0.000000</td>\n",
       "      <td>0.000000</td>\n",
       "      <td>0.000000</td>\n",
       "    </tr>\n",
       "    <tr>\n",
       "      <th>25%</th>\n",
       "      <td>1.000000</td>\n",
       "      <td>0.103900</td>\n",
       "      <td>163.770000</td>\n",
       "      <td>10.558414</td>\n",
       "      <td>7.212500</td>\n",
       "      <td>682.000000</td>\n",
       "      <td>2820.000000</td>\n",
       "      <td>3.187000e+03</td>\n",
       "      <td>22.600000</td>\n",
       "      <td>0.000000</td>\n",
       "      <td>0.000000</td>\n",
       "      <td>0.000000</td>\n",
       "      <td>0.000000</td>\n",
       "    </tr>\n",
       "    <tr>\n",
       "      <th>50%</th>\n",
       "      <td>1.000000</td>\n",
       "      <td>0.122100</td>\n",
       "      <td>268.950000</td>\n",
       "      <td>10.928884</td>\n",
       "      <td>12.665000</td>\n",
       "      <td>707.000000</td>\n",
       "      <td>4139.958333</td>\n",
       "      <td>8.596000e+03</td>\n",
       "      <td>46.300000</td>\n",
       "      <td>1.000000</td>\n",
       "      <td>0.000000</td>\n",
       "      <td>0.000000</td>\n",
       "      <td>0.000000</td>\n",
       "    </tr>\n",
       "    <tr>\n",
       "      <th>75%</th>\n",
       "      <td>1.000000</td>\n",
       "      <td>0.140700</td>\n",
       "      <td>432.762500</td>\n",
       "      <td>11.291293</td>\n",
       "      <td>17.950000</td>\n",
       "      <td>737.000000</td>\n",
       "      <td>5730.000000</td>\n",
       "      <td>1.824950e+04</td>\n",
       "      <td>70.900000</td>\n",
       "      <td>2.000000</td>\n",
       "      <td>0.000000</td>\n",
       "      <td>0.000000</td>\n",
       "      <td>0.000000</td>\n",
       "    </tr>\n",
       "    <tr>\n",
       "      <th>max</th>\n",
       "      <td>1.000000</td>\n",
       "      <td>0.216400</td>\n",
       "      <td>940.140000</td>\n",
       "      <td>14.528354</td>\n",
       "      <td>29.960000</td>\n",
       "      <td>827.000000</td>\n",
       "      <td>17639.958330</td>\n",
       "      <td>1.207359e+06</td>\n",
       "      <td>119.000000</td>\n",
       "      <td>33.000000</td>\n",
       "      <td>13.000000</td>\n",
       "      <td>5.000000</td>\n",
       "      <td>1.000000</td>\n",
       "    </tr>\n",
       "  </tbody>\n",
       "</table>\n",
       "</div>"
      ],
      "text/plain": [
       "       credit.policy     int.rate  installment  log.annual.inc          dti  \\\n",
       "count    9578.000000  9578.000000  9578.000000     9578.000000  9578.000000   \n",
       "mean        0.804970     0.122640   319.089413       10.932117    12.606679   \n",
       "std         0.396245     0.026847   207.071301        0.614813     6.883970   \n",
       "min         0.000000     0.060000    15.670000        7.547502     0.000000   \n",
       "25%         1.000000     0.103900   163.770000       10.558414     7.212500   \n",
       "50%         1.000000     0.122100   268.950000       10.928884    12.665000   \n",
       "75%         1.000000     0.140700   432.762500       11.291293    17.950000   \n",
       "max         1.000000     0.216400   940.140000       14.528354    29.960000   \n",
       "\n",
       "              fico  days.with.cr.line     revol.bal   revol.util  \\\n",
       "count  9578.000000        9578.000000  9.578000e+03  9578.000000   \n",
       "mean    710.846314        4560.767197  1.691396e+04    46.799236   \n",
       "std      37.970537        2496.930377  3.375619e+04    29.014417   \n",
       "min     612.000000         178.958333  0.000000e+00     0.000000   \n",
       "25%     682.000000        2820.000000  3.187000e+03    22.600000   \n",
       "50%     707.000000        4139.958333  8.596000e+03    46.300000   \n",
       "75%     737.000000        5730.000000  1.824950e+04    70.900000   \n",
       "max     827.000000       17639.958330  1.207359e+06   119.000000   \n",
       "\n",
       "       inq.last.6mths  delinq.2yrs      pub.rec  not.fully.paid  \n",
       "count     9578.000000  9578.000000  9578.000000     9578.000000  \n",
       "mean         1.577469     0.163708     0.062122        0.160054  \n",
       "std          2.200245     0.546215     0.262126        0.366676  \n",
       "min          0.000000     0.000000     0.000000        0.000000  \n",
       "25%          0.000000     0.000000     0.000000        0.000000  \n",
       "50%          1.000000     0.000000     0.000000        0.000000  \n",
       "75%          2.000000     0.000000     0.000000        0.000000  \n",
       "max         33.000000    13.000000     5.000000        1.000000  "
      ]
     },
     "execution_count": 4,
     "metadata": {},
     "output_type": "execute_result"
    }
   ],
   "source": [
    "df.describe()"
   ]
  },
  {
   "cell_type": "code",
   "execution_count": 5,
   "metadata": {},
   "outputs": [
    {
     "name": "stdout",
     "output_type": "stream",
     "text": [
      "<class 'pandas.core.frame.DataFrame'>\n",
      "RangeIndex: 9578 entries, 0 to 9577\n",
      "Data columns (total 14 columns):\n",
      " #   Column             Non-Null Count  Dtype  \n",
      "---  ------             --------------  -----  \n",
      " 0   credit.policy      9578 non-null   int64  \n",
      " 1   purpose            9578 non-null   object \n",
      " 2   int.rate           9578 non-null   float64\n",
      " 3   installment        9578 non-null   float64\n",
      " 4   log.annual.inc     9578 non-null   float64\n",
      " 5   dti                9578 non-null   float64\n",
      " 6   fico               9578 non-null   int64  \n",
      " 7   days.with.cr.line  9578 non-null   float64\n",
      " 8   revol.bal          9578 non-null   int64  \n",
      " 9   revol.util         9578 non-null   float64\n",
      " 10  inq.last.6mths     9578 non-null   int64  \n",
      " 11  delinq.2yrs        9578 non-null   int64  \n",
      " 12  pub.rec            9578 non-null   int64  \n",
      " 13  not.fully.paid     9578 non-null   int64  \n",
      "dtypes: float64(6), int64(7), object(1)\n",
      "memory usage: 1.0+ MB\n"
     ]
    }
   ],
   "source": [
    "df.info()"
   ]
  },
  {
   "cell_type": "markdown",
   "metadata": {},
   "source": [
    "# Preprocessing"
   ]
  },
  {
   "cell_type": "code",
   "execution_count": 6,
   "metadata": {},
   "outputs": [
    {
     "data": {
      "text/plain": [
       "<matplotlib.axes._subplots.AxesSubplot at 0x10da67610>"
      ]
     },
     "execution_count": 6,
     "metadata": {},
     "output_type": "execute_result"
    },
    {
     "data": {
      "image/png": "[encoded data removed]",
      "text/plain": [
       "<Figure size 432x288 with 2 Axes>"
      ]
     },
     "metadata": {
      "needs_background": "light"
     },
     "output_type": "display_data"
    }
   ],
   "source": [
    "sns.heatmap(df.isnull())"
   ]
  },
  {
   "cell_type": "markdown",
   "metadata": {},
   "source": [
    "# Exploratory Data Analysis"
   ]
  },
  {
   "cell_type": "markdown",
   "metadata": {},
   "source": [
    "Plotting a historgram of two FICO distributions, one for each credit.policy outcome."
   ]
  },
  {
   "cell_type": "code",
   "execution_count": 7,
   "metadata": {},
   "outputs": [
    {
     "data": {
      "text/plain": [
       "<matplotlib.axes._subplots.AxesSubplot at 0x1a23dde4d0>"
      ]
     },
     "execution_count": 7,
     "metadata": {},
     "output_type": "execute_result"
    },
    {
     "data": {
      "image/png": "[encoded data removed]",
      "text/plain": [
       "<Figure size 432x288 with 1 Axes>"
      ]
     },
     "metadata": {
      "needs_background": "light"
     },
     "output_type": "display_data"
    }
   ],
   "source": [
    "sns.countplot('not.fully.paid',data=df)\n"
   ]
  },
  {
   "cell_type": "markdown",
   "metadata": {},
   "source": [
    "THE TARGET CLASS IS IMBALANCED"
   ]
  },
  {
   "cell_type": "code",
   "execution_count": 8,
   "metadata": {},
   "outputs": [],
   "source": [
    "Not_paid = df[df['not.fully.paid']==1]\n",
    "\n",
    "paid= df[df['not.fully.paid']==0]"
   ]
  },
  {
   "cell_type": "code",
   "execution_count": 9,
   "metadata": {},
   "outputs": [
    {
     "name": "stdout",
     "output_type": "stream",
     "text": [
      "(1533, 14) (8045, 14)\n"
     ]
    }
   ],
   "source": [
    "print(Not_paid.shape,paid.shape)"
   ]
  },
  {
   "cell_type": "code",
   "execution_count": 10,
   "metadata": {},
   "outputs": [
    {
     "data": {
      "text/plain": [
       "Text(0.5, 0, 'FICO')"
      ]
     },
     "execution_count": 10,
     "metadata": {},
     "output_type": "execute_result"
    },
    {
     "data": {
      "image/png": "[encoded data removed]",
      "text/plain": [
       "<Figure size 720x432 with 1 Axes>"
      ]
     },
     "metadata": {
      "needs_background": "light"
     },
     "output_type": "display_data"
    }
   ],
   "source": [
    "plt.figure(figsize=(10,6))\n",
    "df[df['credit.policy']==1]['fico'].hist(bins=40,label='Credit.Policy=1',edgecolor='black')\n",
    "df[df['credit.policy']==0]['fico'].hist(alpha=0.5,bins=40,label='Credit.Policy=0',edgecolor='black')\n",
    "plt.legend()\n",
    "plt.xlabel('FICO')\n",
    "\n",
    "\n"
   ]
  },
  {
   "cell_type": "markdown",
   "metadata": {},
   "source": [
    "Clearly by looking at the graph we can see that it follows a logarithimic distribution with majority being the credit policy=1(meets the lending club loan criteria) and based on the fico score people having lower fico score are the ones haveing credit policy=0(they do not meet the criteria) which makes sense.\n"
   ]
  },
  {
   "cell_type": "code",
   "execution_count": 11,
   "metadata": {},
   "outputs": [
    {
     "data": {
      "text/plain": [
       "Text(0.5, 0, 'FICO')"
      ]
     },
     "execution_count": 11,
     "metadata": {},
     "output_type": "execute_result"
    },
    {
     "data": {
      "image/png": "[encoded data removed]",
      "text/plain": [
       "<Figure size 720x432 with 1 Axes>"
      ]
     },
     "metadata": {
      "needs_background": "light"
     },
     "output_type": "display_data"
    }
   ],
   "source": [
    "plt.figure(figsize=(10,6))\n",
    "df[df['not.fully.paid']==1]['fico'].hist(bins=40,label='not.fully.paid=1',edgecolor='black')\n",
    "df[df['not.fully.paid']==0]['fico'].hist(alpha=0.5,bins=40,label='not.fully.paid=0',edgecolor='black')\n",
    "plt.legend()\n",
    "plt.xlabel('FICO')"
   ]
  },
  {
   "cell_type": "markdown",
   "metadata": {},
   "source": [
    "From the plot,it is seen that most of the people are paying off the loan, follows the same distribution as the previous one.\n",
    "The Highest range of count lies between 675-720"
   ]
  },
  {
   "cell_type": "code",
   "execution_count": 12,
   "metadata": {},
   "outputs": [
    {
     "data": {
      "image/png": "[encoded data removed]",
      "text/plain": [
       "<Figure size 720x432 with 1 Axes>"
      ]
     },
     "metadata": {
      "needs_background": "light"
     },
     "output_type": "display_data"
    }
   ],
   "source": [
    "plt.figure(figsize=(10,6))\n",
    "df[df['not.fully.paid']==0]['purpose'].hist(label='not.fully.paid=0',edgecolor='black')\n",
    "df[df['not.fully.paid']==1]['purpose'].hist(label='not.fully.paid=1',edgecolor='black')\n",
    "plt.legend()\n",
    "plt.tight_layout()"
   ]
  },
  {
   "cell_type": "markdown",
   "metadata": {},
   "source": [
    "Ratio between not fully paid and fully paid is almost same for all purposes.The highest number of loan required belong to debt consolidation."
   ]
  },
  {
   "cell_type": "code",
   "execution_count": 13,
   "metadata": {},
   "outputs": [
    {
     "data": {
      "text/plain": [
       "<seaborn.axisgrid.FacetGrid at 0x1a23dd3890>"
      ]
     },
     "execution_count": 13,
     "metadata": {},
     "output_type": "execute_result"
    },
    {
     "data": {
      "text/plain": [
       "<Figure size 576x432 with 0 Axes>"
      ]
     },
     "metadata": {},
     "output_type": "display_data"
    },
    {
     "data": {
      "image/png": "[encoded data removed]",
      "text/plain": [
       "<Figure size 360x360 with 1 Axes>"
      ]
     },
     "metadata": {
      "needs_background": "light"
     },
     "output_type": "display_data"
    }
   ],
   "source": [
    "plt.figure(figsize=(8,6))\n",
    "sns.lmplot(x='fico',y='int.rate',data=df)"
   ]
  },
  {
   "cell_type": "markdown",
   "metadata": {},
   "source": [
    "From this graph one thing to note is that the interest rate drops as the fico score increases because of good credit history"
   ]
  },
  {
   "cell_type": "markdown",
   "metadata": {},
   "source": [
    "# Modelling"
   ]
  },
  {
   "cell_type": "markdown",
   "metadata": {},
   "source": [
    "Converting categorical variables"
   ]
  },
  {
   "cell_type": "code",
   "execution_count": 14,
   "metadata": {},
   "outputs": [],
   "source": [
    "categorical=['purpose']"
   ]
  },
  {
   "cell_type": "code",
   "execution_count": 15,
   "metadata": {},
   "outputs": [],
   "source": [
    "final_data=pd.get_dummies(df,columns=categorical,drop_first=True)"
   ]
  },
  {
   "cell_type": "code",
   "execution_count": 16,
   "metadata": {},
   "outputs": [
    {
     "name": "stdout",
     "output_type": "stream",
     "text": [
      "<class 'pandas.core.frame.DataFrame'>\n",
      "RangeIndex: 9578 entries, 0 to 9577\n",
      "Data columns (total 19 columns):\n",
      " #   Column                      Non-Null Count  Dtype  \n",
      "---  ------                      --------------  -----  \n",
      " 0   credit.policy               9578 non-null   int64  \n",
      " 1   int.rate                    9578 non-null   float64\n",
      " 2   installment                 9578 non-null   float64\n",
      " 3   log.annual.inc              9578 non-null   float64\n",
      " 4   dti                         9578 non-null   float64\n",
      " 5   fico                        9578 non-null   int64  \n",
      " 6   days.with.cr.line           9578 non-null   float64\n",
      " 7   revol.bal                   9578 non-null   int64  \n",
      " 8   revol.util                  9578 non-null   float64\n",
      " 9   inq.last.6mths              9578 non-null   int64  \n",
      " 10  delinq.2yrs                 9578 non-null   int64  \n",
      " 11  pub.rec                     9578 non-null   int64  \n",
      " 12  not.fully.paid              9578 non-null   int64  \n",
      " 13  purpose_credit_card         9578 non-null   uint8  \n",
      " 14  purpose_debt_consolidation  9578 non-null   uint8  \n",
      " 15  purpose_educational         9578 non-null   uint8  \n",
      " 16  purpose_home_improvement    9578 non-null   uint8  \n",
      " 17  purpose_major_purchase      9578 non-null   uint8  \n",
      " 18  purpose_small_business      9578 non-null   uint8  \n",
      "dtypes: float64(6), int64(7), uint8(6)\n",
      "memory usage: 1.0 MB\n"
     ]
    }
   ],
   "source": [
    "final_data.info()"
   ]
  },
  {
   "cell_type": "code",
   "execution_count": 17,
   "metadata": {},
   "outputs": [
    {
     "data": {
      "text/html": [
       "<div>\n",
       "<style scoped>\n",
       "    .dataframe tbody tr th:only-of-type {\n",
       "        vertical-align: middle;\n",
       "    }\n",
       "\n",
       "    .dataframe tbody tr th {\n",
       "        vertical-align: top;\n",
       "    }\n",
       "\n",
       "    .dataframe thead th {\n",
       "        text-align: right;\n",
       "    }\n",
       "</style>\n",
       "<table border=\"1\" class=\"dataframe\">\n",
       "  <thead>\n",
       "    <tr style=\"text-align: right;\">\n",
       "      <th></th>\n",
       "      <th>credit.policy</th>\n",
       "      <th>int.rate</th>\n",
       "      <th>installment</th>\n",
       "      <th>log.annual.inc</th>\n",
       "      <th>dti</th>\n",
       "      <th>fico</th>\n",
       "      <th>days.with.cr.line</th>\n",
       "      <th>revol.bal</th>\n",
       "      <th>revol.util</th>\n",
       "      <th>inq.last.6mths</th>\n",
       "      <th>delinq.2yrs</th>\n",
       "      <th>pub.rec</th>\n",
       "      <th>not.fully.paid</th>\n",
       "      <th>purpose_credit_card</th>\n",
       "      <th>purpose_debt_consolidation</th>\n",
       "      <th>purpose_educational</th>\n",
       "      <th>purpose_home_improvement</th>\n",
       "      <th>purpose_major_purchase</th>\n",
       "      <th>purpose_small_business</th>\n",
       "    </tr>\n",
       "  </thead>\n",
       "  <tbody>\n",
       "    <tr>\n",
       "      <th>0</th>\n",
       "      <td>1</td>\n",
       "      <td>0.1189</td>\n",
       "      <td>829.10</td>\n",
       "      <td>11.350407</td>\n",
       "      <td>19.48</td>\n",
       "      <td>737</td>\n",
       "      <td>5639.958333</td>\n",
       "      <td>28854</td>\n",
       "      <td>52.1</td>\n",
       "      <td>0</td>\n",
       "      <td>0</td>\n",
       "      <td>0</td>\n",
       "      <td>0</td>\n",
       "      <td>0</td>\n",
       "      <td>1</td>\n",
       "      <td>0</td>\n",
       "      <td>0</td>\n",
       "      <td>0</td>\n",
       "      <td>0</td>\n",
       "    </tr>\n",
       "    <tr>\n",
       "      <th>1</th>\n",
       "      <td>1</td>\n",
       "      <td>0.1071</td>\n",
       "      <td>228.22</td>\n",
       "      <td>11.082143</td>\n",
       "      <td>14.29</td>\n",
       "      <td>707</td>\n",
       "      <td>2760.000000</td>\n",
       "      <td>33623</td>\n",
       "      <td>76.7</td>\n",
       "      <td>0</td>\n",
       "      <td>0</td>\n",
       "      <td>0</td>\n",
       "      <td>0</td>\n",
       "      <td>1</td>\n",
       "      <td>0</td>\n",
       "      <td>0</td>\n",
       "      <td>0</td>\n",
       "      <td>0</td>\n",
       "      <td>0</td>\n",
       "    </tr>\n",
       "    <tr>\n",
       "      <th>2</th>\n",
       "      <td>1</td>\n",
       "      <td>0.1357</td>\n",
       "      <td>366.86</td>\n",
       "      <td>10.373491</td>\n",
       "      <td>11.63</td>\n",
       "      <td>682</td>\n",
       "      <td>4710.000000</td>\n",
       "      <td>3511</td>\n",
       "      <td>25.6</td>\n",
       "      <td>1</td>\n",
       "      <td>0</td>\n",
       "      <td>0</td>\n",
       "      <td>0</td>\n",
       "      <td>0</td>\n",
       "      <td>1</td>\n",
       "      <td>0</td>\n",
       "      <td>0</td>\n",
       "      <td>0</td>\n",
       "      <td>0</td>\n",
       "    </tr>\n",
       "    <tr>\n",
       "      <th>3</th>\n",
       "      <td>1</td>\n",
       "      <td>0.1008</td>\n",
       "      <td>162.34</td>\n",
       "      <td>11.350407</td>\n",
       "      <td>8.10</td>\n",
       "      <td>712</td>\n",
       "      <td>2699.958333</td>\n",
       "      <td>33667</td>\n",
       "      <td>73.2</td>\n",
       "      <td>1</td>\n",
       "      <td>0</td>\n",
       "      <td>0</td>\n",
       "      <td>0</td>\n",
       "      <td>0</td>\n",
       "      <td>1</td>\n",
       "      <td>0</td>\n",
       "      <td>0</td>\n",
       "      <td>0</td>\n",
       "      <td>0</td>\n",
       "    </tr>\n",
       "    <tr>\n",
       "      <th>4</th>\n",
       "      <td>1</td>\n",
       "      <td>0.1426</td>\n",
       "      <td>102.92</td>\n",
       "      <td>11.299732</td>\n",
       "      <td>14.97</td>\n",
       "      <td>667</td>\n",
       "      <td>4066.000000</td>\n",
       "      <td>4740</td>\n",
       "      <td>39.5</td>\n",
       "      <td>0</td>\n",
       "      <td>1</td>\n",
       "      <td>0</td>\n",
       "      <td>0</td>\n",
       "      <td>1</td>\n",
       "      <td>0</td>\n",
       "      <td>0</td>\n",
       "      <td>0</td>\n",
       "      <td>0</td>\n",
       "      <td>0</td>\n",
       "    </tr>\n",
       "  </tbody>\n",
       "</table>\n",
       "</div>"
      ],
      "text/plain": [
       "   credit.policy  int.rate  installment  log.annual.inc    dti  fico  \\\n",
       "0              1    0.1189       829.10       11.350407  19.48   737   \n",
       "1              1    0.1071       228.22       11.082143  14.29   707   \n",
       "2              1    0.1357       366.86       10.373491  11.63   682   \n",
       "3              1    0.1008       162.34       11.350407   8.10   712   \n",
       "4              1    0.1426       102.92       11.299732  14.97   667   \n",
       "\n",
       "   days.with.cr.line  revol.bal  revol.util  inq.last.6mths  delinq.2yrs  \\\n",
       "0        5639.958333      28854        52.1               0            0   \n",
       "1        2760.000000      33623        76.7               0            0   \n",
       "2        4710.000000       3511        25.6               1            0   \n",
       "3        2699.958333      33667        73.2               1            0   \n",
       "4        4066.000000       4740        39.5               0            1   \n",
       "\n",
       "   pub.rec  not.fully.paid  purpose_credit_card  purpose_debt_consolidation  \\\n",
       "0        0               0                    0                           1   \n",
       "1        0               0                    1                           0   \n",
       "2        0               0                    0                           1   \n",
       "3        0               0                    0                           1   \n",
       "4        0               0                    1                           0   \n",
       "\n",
       "   purpose_educational  purpose_home_improvement  purpose_major_purchase  \\\n",
       "0                    0                         0                       0   \n",
       "1                    0                         0                       0   \n",
       "2                    0                         0                       0   \n",
       "3                    0                         0                       0   \n",
       "4                    0                         0                       0   \n",
       "\n",
       "   purpose_small_business  \n",
       "0                       0  \n",
       "1                       0  \n",
       "2                       0  \n",
       "3                       0  \n",
       "4                       0  "
      ]
     },
     "execution_count": 17,
     "metadata": {},
     "output_type": "execute_result"
    }
   ],
   "source": [
    "final_data.head()"
   ]
  },
  {
   "cell_type": "code",
   "execution_count": 22,
   "metadata": {},
   "outputs": [],
   "source": [
    "X=final_data.drop('not.fully.paid',axis=1)\n",
    "y=final_data['not.fully.paid']"
   ]
  },
  {
   "cell_type": "code",
   "execution_count": 23,
   "metadata": {},
   "outputs": [],
   "source": [
    "from sklearn.preprocessing import StandardScaler\n",
    "scalar = StandardScaler()\n",
    "X_scaled = scalar.fit_transform(X[['int.rate', 'installment', 'log.annual.inc', 'dti',\n",
    "       'fico', 'days.with.cr.line', 'revol.bal', 'revol.util',\n",
    "       'inq.last.6mths', 'delinq.2yrs', 'pub.rec']])"
   ]
  },
  {
   "cell_type": "code",
   "execution_count": 27,
   "metadata": {},
   "outputs": [],
   "source": [
    "X_scaled=pd.DataFrame(X_scaled,columns=X.columns[1:12])"
   ]
  },
  {
   "cell_type": "code",
   "execution_count": 28,
   "metadata": {},
   "outputs": [],
   "source": [
    "X=pd.concat([X_scaled,X[['credit.policy','purpose_credit_card',\n",
    "       'purpose_debt_consolidation', 'purpose_educational',\n",
    "       'purpose_home_improvement', 'purpose_major_purchase',\n",
    "       'purpose_small_business']]],axis=1)"
   ]
  },
  {
   "cell_type": "code",
   "execution_count": 29,
   "metadata": {},
   "outputs": [
    {
     "data": {
      "text/html": [
       "<div>\n",
       "<style scoped>\n",
       "    .dataframe tbody tr th:only-of-type {\n",
       "        vertical-align: middle;\n",
       "    }\n",
       "\n",
       "    .dataframe tbody tr th {\n",
       "        vertical-align: top;\n",
       "    }\n",
       "\n",
       "    .dataframe thead th {\n",
       "        text-align: right;\n",
       "    }\n",
       "</style>\n",
       "<table border=\"1\" class=\"dataframe\">\n",
       "  <thead>\n",
       "    <tr style=\"text-align: right;\">\n",
       "      <th></th>\n",
       "      <th>int.rate</th>\n",
       "      <th>installment</th>\n",
       "      <th>log.annual.inc</th>\n",
       "      <th>dti</th>\n",
       "      <th>fico</th>\n",
       "      <th>days.with.cr.line</th>\n",
       "      <th>revol.bal</th>\n",
       "      <th>revol.util</th>\n",
       "      <th>inq.last.6mths</th>\n",
       "      <th>delinq.2yrs</th>\n",
       "      <th>pub.rec</th>\n",
       "      <th>credit.policy</th>\n",
       "      <th>purpose_credit_card</th>\n",
       "      <th>purpose_debt_consolidation</th>\n",
       "      <th>purpose_educational</th>\n",
       "      <th>purpose_home_improvement</th>\n",
       "      <th>purpose_major_purchase</th>\n",
       "      <th>purpose_small_business</th>\n",
       "    </tr>\n",
       "  </thead>\n",
       "  <tbody>\n",
       "    <tr>\n",
       "      <th>0</th>\n",
       "      <td>-0.139318</td>\n",
       "      <td>2.463099</td>\n",
       "      <td>0.680388</td>\n",
       "      <td>0.998505</td>\n",
       "      <td>0.688825</td>\n",
       "      <td>0.432230</td>\n",
       "      <td>0.353732</td>\n",
       "      <td>0.182704</td>\n",
       "      <td>-0.716989</td>\n",
       "      <td>-0.299730</td>\n",
       "      <td>-0.237003</td>\n",
       "      <td>1</td>\n",
       "      <td>0</td>\n",
       "      <td>1</td>\n",
       "      <td>0</td>\n",
       "      <td>0</td>\n",
       "      <td>0</td>\n",
       "      <td>0</td>\n",
       "    </tr>\n",
       "    <tr>\n",
       "      <th>1</th>\n",
       "      <td>-0.578868</td>\n",
       "      <td>-0.438854</td>\n",
       "      <td>0.244031</td>\n",
       "      <td>0.244540</td>\n",
       "      <td>-0.101303</td>\n",
       "      <td>-0.721230</td>\n",
       "      <td>0.495018</td>\n",
       "      <td>1.030602</td>\n",
       "      <td>-0.716989</td>\n",
       "      <td>-0.299730</td>\n",
       "      <td>-0.237003</td>\n",
       "      <td>1</td>\n",
       "      <td>1</td>\n",
       "      <td>0</td>\n",
       "      <td>0</td>\n",
       "      <td>0</td>\n",
       "      <td>0</td>\n",
       "      <td>0</td>\n",
       "    </tr>\n",
       "    <tr>\n",
       "      <th>2</th>\n",
       "      <td>0.486484</td>\n",
       "      <td>0.230708</td>\n",
       "      <td>-0.908659</td>\n",
       "      <td>-0.141885</td>\n",
       "      <td>-0.759742</td>\n",
       "      <td>0.059770</td>\n",
       "      <td>-0.397073</td>\n",
       "      <td>-0.730683</td>\n",
       "      <td>-0.262470</td>\n",
       "      <td>-0.299730</td>\n",
       "      <td>-0.237003</td>\n",
       "      <td>1</td>\n",
       "      <td>0</td>\n",
       "      <td>1</td>\n",
       "      <td>0</td>\n",
       "      <td>0</td>\n",
       "      <td>0</td>\n",
       "      <td>0</td>\n",
       "    </tr>\n",
       "    <tr>\n",
       "      <th>3</th>\n",
       "      <td>-0.813544</td>\n",
       "      <td>-0.757022</td>\n",
       "      <td>0.680388</td>\n",
       "      <td>-0.654697</td>\n",
       "      <td>0.030385</td>\n",
       "      <td>-0.745277</td>\n",
       "      <td>0.496321</td>\n",
       "      <td>0.909966</td>\n",
       "      <td>-0.262470</td>\n",
       "      <td>-0.299730</td>\n",
       "      <td>-0.237003</td>\n",
       "      <td>1</td>\n",
       "      <td>0</td>\n",
       "      <td>1</td>\n",
       "      <td>0</td>\n",
       "      <td>0</td>\n",
       "      <td>0</td>\n",
       "      <td>0</td>\n",
       "    </tr>\n",
       "    <tr>\n",
       "      <th>4</th>\n",
       "      <td>0.743509</td>\n",
       "      <td>-1.043992</td>\n",
       "      <td>0.597961</td>\n",
       "      <td>0.343326</td>\n",
       "      <td>-1.154806</td>\n",
       "      <td>-0.198161</td>\n",
       "      <td>-0.360663</td>\n",
       "      <td>-0.251586</td>\n",
       "      <td>-0.716989</td>\n",
       "      <td>1.531147</td>\n",
       "      <td>-0.237003</td>\n",
       "      <td>1</td>\n",
       "      <td>1</td>\n",
       "      <td>0</td>\n",
       "      <td>0</td>\n",
       "      <td>0</td>\n",
       "      <td>0</td>\n",
       "      <td>0</td>\n",
       "    </tr>\n",
       "  </tbody>\n",
       "</table>\n",
       "</div>"
      ],
      "text/plain": [
       "   int.rate  installment  log.annual.inc       dti      fico  \\\n",
       "0 -0.139318     2.463099        0.680388  0.998505  0.688825   \n",
       "1 -0.578868    -0.438854        0.244031  0.244540 -0.101303   \n",
       "2  0.486484     0.230708       -0.908659 -0.141885 -0.759742   \n",
       "3 -0.813544    -0.757022        0.680388 -0.654697  0.030385   \n",
       "4  0.743509    -1.043992        0.597961  0.343326 -1.154806   \n",
       "\n",
       "   days.with.cr.line  revol.bal  revol.util  inq.last.6mths  delinq.2yrs  \\\n",
       "0           0.432230   0.353732    0.182704       -0.716989    -0.299730   \n",
       "1          -0.721230   0.495018    1.030602       -0.716989    -0.299730   \n",
       "2           0.059770  -0.397073   -0.730683       -0.262470    -0.299730   \n",
       "3          -0.745277   0.496321    0.909966       -0.262470    -0.299730   \n",
       "4          -0.198161  -0.360663   -0.251586       -0.716989     1.531147   \n",
       "\n",
       "    pub.rec  credit.policy  purpose_credit_card  purpose_debt_consolidation  \\\n",
       "0 -0.237003              1                    0                           1   \n",
       "1 -0.237003              1                    1                           0   \n",
       "2 -0.237003              1                    0                           1   \n",
       "3 -0.237003              1                    0                           1   \n",
       "4 -0.237003              1                    1                           0   \n",
       "\n",
       "   purpose_educational  purpose_home_improvement  purpose_major_purchase  \\\n",
       "0                    0                         0                       0   \n",
       "1                    0                         0                       0   \n",
       "2                    0                         0                       0   \n",
       "3                    0                         0                       0   \n",
       "4                    0                         0                       0   \n",
       "\n",
       "   purpose_small_business  \n",
       "0                       0  \n",
       "1                       0  \n",
       "2                       0  \n",
       "3                       0  \n",
       "4                       0  "
      ]
     },
     "execution_count": 29,
     "metadata": {},
     "output_type": "execute_result"
    }
   ],
   "source": [
    "X.head()"
   ]
  },
  {
   "cell_type": "code",
   "execution_count": 32,
   "metadata": {},
   "outputs": [],
   "source": [
    "df_scaled=pd.concat([X,y],axis=1)"
   ]
  },
  {
   "cell_type": "code",
   "execution_count": 33,
   "metadata": {},
   "outputs": [
    {
     "data": {
      "text/plain": [
       "<matplotlib.axes._subplots.AxesSubplot at 0x1a243f8e90>"
      ]
     },
     "execution_count": 33,
     "metadata": {},
     "output_type": "execute_result"
    },
    {
     "data": {
      "image/png": "[encoded data removed]",
      "text/plain": [
       "<Figure size 1080x864 with 2 Axes>"
      ]
     },
     "metadata": {
      "needs_background": "light"
     },
     "output_type": "display_data"
    }
   ],
   "source": [
    "plt.figure(figsize=(15,12))\n",
    "sns.heatmap(df_scaled.corr(),annot=True)"
   ]
  },
  {
   "cell_type": "code",
   "execution_count": 34,
   "metadata": {},
   "outputs": [],
   "source": [
    "X=X[['fico','installment','inq.last.6mths']]"
   ]
  },
  {
   "cell_type": "markdown",
   "metadata": {},
   "source": [
    "# USING STRATIFIEDKFOLD"
   ]
  },
  {
   "cell_type": "code",
   "execution_count": 37,
   "metadata": {},
   "outputs": [],
   "source": [
    "from sklearn.model_selection import StratifiedKFold"
   ]
  },
  {
   "cell_type": "code",
   "execution_count": 38,
   "metadata": {},
   "outputs": [],
   "source": [
    "skf=StratifiedKFold(n_splits=5,random_state=None)"
   ]
  },
  {
   "cell_type": "markdown",
   "metadata": {},
   "source": [
    "# LOGISTIC"
   ]
  },
  {
   "cell_type": "code",
   "execution_count": 39,
   "metadata": {},
   "outputs": [],
   "source": [
    "from sklearn.linear_model import LogisticRegression"
   ]
  },
  {
   "cell_type": "code",
   "execution_count": 91,
   "metadata": {},
   "outputs": [
    {
     "name": "stdout",
     "output_type": "stream",
     "text": [
      "[0.8397703549060542, 0.8397703549060542, 0.8397703549060542, 0.8412532637075718, 0.7347258485639687]\n"
     ]
    }
   ],
   "source": [
    "accuracy=[]\n",
    "skf.get_n_splits(X,y)\n",
    "for train_index,test_index in skf.split(X,y):\n",
    "\n",
    "    X_train, X_test = X.iloc[train_index], X.iloc[test_index]\n",
    "    y_train, y_test = y.iloc[train_index], y.iloc[test_index]\n",
    "    \n",
    "    log=LogisticRegression(penalty='l1',solver='liblinear')\n",
    "    log.fit(X_train,y_train)\n",
    "    log_preds=log.predict(X_test)\n",
    "    score=accuracy_score(log_preds,y_test)\n",
    "    accuracy.append(score)\n",
    "    \n",
    "print(accuracy)"
   ]
  },
  {
   "cell_type": "code",
   "execution_count": 92,
   "metadata": {},
   "outputs": [
    {
     "data": {
      "text/plain": [
       "0.8190580353979406"
      ]
     },
     "execution_count": 92,
     "metadata": {},
     "output_type": "execute_result"
    }
   ],
   "source": [
    "np.array(accuracy).mean()"
   ]
  },
  {
   "cell_type": "code",
   "execution_count": 93,
   "metadata": {},
   "outputs": [
    {
     "name": "stdout",
     "output_type": "stream",
     "text": [
      "              precision    recall  f1-score   support\n",
      "\n",
      "           0       0.87      0.80      0.84      1609\n",
      "           1       0.26      0.37      0.31       306\n",
      "\n",
      "    accuracy                           0.73      1915\n",
      "   macro avg       0.57      0.59      0.57      1915\n",
      "weighted avg       0.77      0.73      0.75      1915\n",
      "\n",
      "[[1295  314]\n",
      " [ 194  112]]\n"
     ]
    }
   ],
   "source": [
    "print(classification_report(y_test,log_preds))\n",
    "print(confusion_matrix(y_test,log_preds))"
   ]
  },
  {
   "cell_type": "markdown",
   "metadata": {},
   "source": [
    "# SVM"
   ]
  },
  {
   "cell_type": "code",
   "execution_count": 43,
   "metadata": {},
   "outputs": [],
   "source": [
    "from sklearn.svm import SVC\n"
   ]
  },
  {
   "cell_type": "code",
   "execution_count": 46,
   "metadata": {},
   "outputs": [
    {
     "name": "stdout",
     "output_type": "stream",
     "text": [
      "[0.8397703549060542, 0.8397703549060542, 0.8397703549060542, 0.8402088772845953, 0.6746736292428198]\n"
     ]
    }
   ],
   "source": [
    "from sklearn.svm import SVC\n",
    "accuracy_svm=[]\n",
    "skf.get_n_splits(X,y)\n",
    "for train_index,test_index in skf.split(X,y):\n",
    "    X_train, X_test = X.iloc[train_index], X.iloc[test_index]\n",
    "    y_train, y_test = y.iloc[train_index], y.iloc[test_index]\n",
    "    \n",
    "    svc=SVC()\n",
    "    svc.fit(X_train,y_train)\n",
    "    svc_preds=svc.predict(X_test)\n",
    "    score=accuracy_score(svc_preds,y_test)\n",
    "    accuracy_svm.append(score)\n",
    "    \n",
    "print(accuracy_svm)"
   ]
  },
  {
   "cell_type": "code",
   "execution_count": 48,
   "metadata": {},
   "outputs": [
    {
     "data": {
      "text/plain": [
       "0.8068387142491155"
      ]
     },
     "execution_count": 48,
     "metadata": {},
     "output_type": "execute_result"
    }
   ],
   "source": [
    "np.array(accuracy_svm).mean()"
   ]
  },
  {
   "cell_type": "code",
   "execution_count": 49,
   "metadata": {},
   "outputs": [
    {
     "name": "stdout",
     "output_type": "stream",
     "text": [
      "              precision    recall  f1-score   support\n",
      "\n",
      "           0       0.87      0.72      0.79      1609\n",
      "           1       0.23      0.45      0.31       306\n",
      "\n",
      "    accuracy                           0.67      1915\n",
      "   macro avg       0.55      0.59      0.55      1915\n",
      "weighted avg       0.77      0.67      0.71      1915\n",
      "\n",
      "[[1153  456]\n",
      " [ 167  139]]\n"
     ]
    }
   ],
   "source": [
    "print(classification_report(y_test,svc_preds))\n",
    "print(confusion_matrix(y_test,svc_preds))"
   ]
  },
  {
   "cell_type": "markdown",
   "metadata": {},
   "source": [
    "TUNING"
   ]
  },
  {
   "cell_type": "code",
   "execution_count": 55,
   "metadata": {},
   "outputs": [
    {
     "name": "stdout",
     "output_type": "stream",
     "text": [
      "[0.8397703549060542, 0.8397703549060542, 0.8397703549060542, 0.8402088772845953, 0.7509138381201045]\n"
     ]
    }
   ],
   "source": [
    "from sklearn.svm import SVC\n",
    "accuracy_svm=[]\n",
    "skf.get_n_splits(X,y)\n",
    "for train_index,test_index in skf.split(X,y):\n",
    "    X_train, X_test = X.iloc[train_index], X.iloc[test_index]\n",
    "    y_train, y_test = y.iloc[train_index], y.iloc[test_index]\n",
    "    \n",
    "    svc=SVC(C=0.1,gamma=1)\n",
    "    svc.fit(X_train,y_train)\n",
    "    svc_preds=svc.predict(X_test)\n",
    "    score=accuracy_score(svc_preds,y_test)\n",
    "    accuracy_svm.append(score)\n",
    "    \n",
    "print(accuracy_svm)"
   ]
  },
  {
   "cell_type": "code",
   "execution_count": 56,
   "metadata": {},
   "outputs": [
    {
     "data": {
      "text/plain": [
       "0.8220867560245724"
      ]
     },
     "execution_count": 56,
     "metadata": {},
     "output_type": "execute_result"
    }
   ],
   "source": [
    "np.array(accuracy_svm).mean()"
   ]
  },
  {
   "cell_type": "code",
   "execution_count": 57,
   "metadata": {},
   "outputs": [
    {
     "name": "stdout",
     "output_type": "stream",
     "text": [
      "              precision    recall  f1-score   support\n",
      "\n",
      "           0       0.86      0.84      0.85      1609\n",
      "           1       0.25      0.28      0.27       306\n",
      "\n",
      "    accuracy                           0.75      1915\n",
      "   macro avg       0.56      0.56      0.56      1915\n",
      "weighted avg       0.76      0.75      0.76      1915\n",
      "\n",
      "[[1351  258]\n",
      " [ 219   87]]\n"
     ]
    }
   ],
   "source": [
    "print(classification_report(y_test,svc_preds))\n",
    "print(confusion_matrix(y_test,svc_preds))"
   ]
  },
  {
   "cell_type": "markdown",
   "metadata": {},
   "source": [
    "# Random Forest"
   ]
  },
  {
   "cell_type": "code",
   "execution_count": 71,
   "metadata": {},
   "outputs": [
    {
     "name": "stdout",
     "output_type": "stream",
     "text": [
      "[0.7927974947807933, 0.7813152400835073, 0.7927974947807933, 0.7676240208877284, 0.425065274151436]\n"
     ]
    }
   ],
   "source": [
    "accuracy_RF=[]\n",
    "skf.get_n_splits(X,y)\n",
    "for train_index,test_index in skf.split(X,y):\n",
    "    X_train, X_test = X.iloc[train_index], X.iloc[test_index]\n",
    "    y_train, y_test = y.iloc[train_index], y.iloc[test_index]\n",
    "    \n",
    "    RF=RandomForestClassifier(n_estimators=300,\n",
    " min_samples_split=2,\n",
    " min_samples_leaf=1,\n",
    " max_features='sqrt',\n",
    " max_depth=120,\n",
    " criterion='gini')\n",
    "    RF.fit(X_train,y_train)\n",
    "    RF_preds=RF.predict(X_test)\n",
    "    score=accuracy_score(RF_preds,y_test)\n",
    "    accuracy_RF.append(score)\n",
    "    \n",
    "print(accuracy_RF)"
   ]
  },
  {
   "cell_type": "code",
   "execution_count": 72,
   "metadata": {},
   "outputs": [
    {
     "data": {
      "text/plain": [
       "0.7119199049368516"
      ]
     },
     "execution_count": 72,
     "metadata": {},
     "output_type": "execute_result"
    }
   ],
   "source": [
    "np.array(accuracy_RF).mean()"
   ]
  },
  {
   "cell_type": "code",
   "execution_count": 73,
   "metadata": {},
   "outputs": [
    {
     "name": "stdout",
     "output_type": "stream",
     "text": [
      "              precision    recall  f1-score   support\n",
      "\n",
      "           0       0.91      0.35      0.51      1609\n",
      "           1       0.19      0.81      0.31       306\n",
      "\n",
      "    accuracy                           0.43      1915\n",
      "   macro avg       0.55      0.58      0.41      1915\n",
      "weighted avg       0.79      0.43      0.48      1915\n",
      "\n",
      "[[ 566 1043]\n",
      " [  58  248]]\n"
     ]
    }
   ],
   "source": [
    "print(classification_report(y_test,RF_preds))\n",
    "print(confusion_matrix(y_test,RF_preds))"
   ]
  },
  {
   "cell_type": "markdown",
   "metadata": {},
   "source": [
    "# BOOSTING"
   ]
  },
  {
   "cell_type": "code",
   "execution_count": 75,
   "metadata": {},
   "outputs": [],
   "source": [
    "import xgboost as xgb\n",
    "from xgboost import XGBClassifier"
   ]
  },
  {
   "cell_type": "code",
   "execution_count": 78,
   "metadata": {},
   "outputs": [
    {
     "name": "stdout",
     "output_type": "stream",
     "text": [
      "[0.8402922755741128, 0.8402922755741128, 0.8397703549060542, 0.8402088772845953, 0.4516971279373368]\n"
     ]
    }
   ],
   "source": [
    "accuracy_XG=[]\n",
    "skf.get_n_splits(X,y)\n",
    "for train_index,test_index in skf.split(X,y):\n",
    "    X_train, X_test = X.iloc[train_index], X.iloc[test_index]\n",
    "    y_train, y_test = y.iloc[train_index], y.iloc[test_index]\n",
    "    \n",
    "    XG=XGBClassifier(objective='binary:logistic')\n",
    "    XG.fit(X_train,y_train)\n",
    "    XG_preds=XG.predict(X_test)\n",
    "    score=accuracy_score(XG_preds,y_test)\n",
    "    accuracy_XG.append(score)\n",
    "    \n",
    "print(accuracy_XG)"
   ]
  },
  {
   "cell_type": "code",
   "execution_count": 79,
   "metadata": {},
   "outputs": [
    {
     "data": {
      "text/plain": [
       "0.7624521822552424"
      ]
     },
     "execution_count": 79,
     "metadata": {},
     "output_type": "execute_result"
    }
   ],
   "source": [
    "np.array(accuracy_XG).mean()"
   ]
  },
  {
   "cell_type": "code",
   "execution_count": 80,
   "metadata": {},
   "outputs": [
    {
     "name": "stdout",
     "output_type": "stream",
     "text": [
      "              precision    recall  f1-score   support\n",
      "\n",
      "           0       0.91      0.39      0.54      1609\n",
      "           1       0.20      0.80      0.32       306\n",
      "\n",
      "    accuracy                           0.45      1915\n",
      "   macro avg       0.55      0.59      0.43      1915\n",
      "weighted avg       0.80      0.45      0.51      1915\n",
      "\n"
     ]
    }
   ],
   "source": [
    "\n",
    "print(classification_report(y_test,XG_preds))"
   ]
  },
  {
   "cell_type": "markdown",
   "metadata": {},
   "source": [
    "TUNING"
   ]
  },
  {
   "cell_type": "code",
   "execution_count": 81,
   "metadata": {},
   "outputs": [],
   "source": [
    "param_grid={\n",
    "   \n",
    "    ' learning_rate':[1,0.5,0.1,0.01,0.001],\n",
    "    'max_depth': [3,5,10,20,50],\n",
    "    'n_estimators':[10,50,100,200]\n",
    "    \n",
    "}"
   ]
  },
  {
   "cell_type": "code",
   "execution_count": 82,
   "metadata": {},
   "outputs": [],
   "source": [
    "grid= GridSearchCV(XGBClassifier(objective='binary:logistic'),param_grid, verbose=3)"
   ]
  },
  {
   "cell_type": "code",
   "execution_count": 83,
   "metadata": {},
   "outputs": [
    {
     "name": "stdout",
     "output_type": "stream",
     "text": [
      "Fitting 5 folds for each of 100 candidates, totalling 500 fits\n",
      "[CV]  learning_rate=1, max_depth=3, n_estimators=10 ..................\n",
      "[CV]   learning_rate=1, max_depth=3, n_estimators=10, score=0.839, total=   0.0s\n",
      "[CV]  learning_rate=1, max_depth=3, n_estimators=10 ..................\n",
      "[CV]   learning_rate=1, max_depth=3, n_estimators=10, score=0.840, total=   0.0s\n",
      "[CV]  learning_rate=1, max_depth=3, n_estimators=10 ..................\n",
      "[CV]   learning_rate=1, max_depth=3, n_estimators=10, score=0.840, total=   0.0s\n",
      "[CV]  learning_rate=1, max_depth=3, n_estimators=10 ..................\n",
      "[CV]   learning_rate=1, max_depth=3, n_estimators=10, score=0.840, total=   0.0s\n",
      "[CV]  learning_rate=1, max_depth=3, n_estimators=10 ..................\n",
      "[CV]   learning_rate=1, max_depth=3, n_estimators=10, score=0.836, total=   0.0s\n",
      "[CV]  learning_rate=1, max_depth=3, n_estimators=50 ..................\n"
     ]
    },
    {
     "name": "stderr",
     "output_type": "stream",
     "text": [
      "[Parallel(n_jobs=1)]: Using backend SequentialBackend with 1 concurrent workers.\n",
      "[Parallel(n_jobs=1)]: Done   1 out of   1 | elapsed:    0.0s remaining:    0.0s\n",
      "[Parallel(n_jobs=1)]: Done   2 out of   2 | elapsed:    0.1s remaining:    0.0s\n"
     ]
    },
    {
     "name": "stdout",
     "output_type": "stream",
     "text": [
      "[CV]   learning_rate=1, max_depth=3, n_estimators=50, score=0.839, total=   0.2s\n",
      "[CV]  learning_rate=1, max_depth=3, n_estimators=50 ..................\n",
      "[CV]   learning_rate=1, max_depth=3, n_estimators=50, score=0.840, total=   0.1s\n",
      "[CV]  learning_rate=1, max_depth=3, n_estimators=50 ..................\n",
      "[CV]   learning_rate=1, max_depth=3, n_estimators=50, score=0.840, total=   0.2s\n",
      "[CV]  learning_rate=1, max_depth=3, n_estimators=50 ..................\n",
      "[CV]   learning_rate=1, max_depth=3, n_estimators=50, score=0.840, total=   0.1s\n",
      "[CV]  learning_rate=1, max_depth=3, n_estimators=50 ..................\n",
      "[CV]   learning_rate=1, max_depth=3, n_estimators=50, score=0.839, total=   0.1s\n",
      "[CV]  learning_rate=1, max_depth=3, n_estimators=100 .................\n",
      "[CV]   learning_rate=1, max_depth=3, n_estimators=100, score=0.838, total=   0.3s\n",
      "[CV]  learning_rate=1, max_depth=3, n_estimators=100 .................\n",
      "[CV]   learning_rate=1, max_depth=3, n_estimators=100, score=0.840, total=   0.4s\n",
      "[CV]  learning_rate=1, max_depth=3, n_estimators=100 .................\n",
      "[CV]   learning_rate=1, max_depth=3, n_estimators=100, score=0.840, total=   0.4s\n",
      "[CV]  learning_rate=1, max_depth=3, n_estimators=100 .................\n",
      "[CV]   learning_rate=1, max_depth=3, n_estimators=100, score=0.839, total=   0.4s\n",
      "[CV]  learning_rate=1, max_depth=3, n_estimators=100 .................\n",
      "[CV]   learning_rate=1, max_depth=3, n_estimators=100, score=0.837, total=   0.4s\n",
      "[CV]  learning_rate=1, max_depth=3, n_estimators=200 .................\n",
      "[CV]   learning_rate=1, max_depth=3, n_estimators=200, score=0.838, total=   0.5s\n",
      "[CV]  learning_rate=1, max_depth=3, n_estimators=200 .................\n",
      "[CV]   learning_rate=1, max_depth=3, n_estimators=200, score=0.840, total=   0.5s\n",
      "[CV]  learning_rate=1, max_depth=3, n_estimators=200 .................\n",
      "[CV]   learning_rate=1, max_depth=3, n_estimators=200, score=0.839, total=   0.7s\n",
      "[CV]  learning_rate=1, max_depth=3, n_estimators=200 .................\n",
      "[CV]   learning_rate=1, max_depth=3, n_estimators=200, score=0.837, total=   0.5s\n",
      "[CV]  learning_rate=1, max_depth=3, n_estimators=200 .................\n",
      "[CV]   learning_rate=1, max_depth=3, n_estimators=200, score=0.837, total=   0.5s\n",
      "[CV]  learning_rate=1, max_depth=5, n_estimators=10 ..................\n",
      "[CV]   learning_rate=1, max_depth=5, n_estimators=10, score=0.839, total=   0.0s\n",
      "[CV]  learning_rate=1, max_depth=5, n_estimators=10 ..................\n",
      "[CV]   learning_rate=1, max_depth=5, n_estimators=10, score=0.838, total=   0.0s\n",
      "[CV]  learning_rate=1, max_depth=5, n_estimators=10 ..................\n",
      "[CV]   learning_rate=1, max_depth=5, n_estimators=10, score=0.840, total=   0.0s\n",
      "[CV]  learning_rate=1, max_depth=5, n_estimators=10 ..................\n",
      "[CV]   learning_rate=1, max_depth=5, n_estimators=10, score=0.839, total=   0.1s\n",
      "[CV]  learning_rate=1, max_depth=5, n_estimators=10 ..................\n",
      "[CV]   learning_rate=1, max_depth=5, n_estimators=10, score=0.837, total=   0.1s\n",
      "[CV]  learning_rate=1, max_depth=5, n_estimators=50 ..................\n",
      "[CV]   learning_rate=1, max_depth=5, n_estimators=50, score=0.838, total=   0.2s\n",
      "[CV]  learning_rate=1, max_depth=5, n_estimators=50 ..................\n",
      "[CV]   learning_rate=1, max_depth=5, n_estimators=50, score=0.840, total=   0.2s\n",
      "[CV]  learning_rate=1, max_depth=5, n_estimators=50 ..................\n",
      "[CV]   learning_rate=1, max_depth=5, n_estimators=50, score=0.837, total=   0.2s\n",
      "[CV]  learning_rate=1, max_depth=5, n_estimators=50 ..................\n",
      "[CV]   learning_rate=1, max_depth=5, n_estimators=50, score=0.840, total=   0.2s\n",
      "[CV]  learning_rate=1, max_depth=5, n_estimators=50 ..................\n",
      "[CV]   learning_rate=1, max_depth=5, n_estimators=50, score=0.841, total=   0.2s\n",
      "[CV]  learning_rate=1, max_depth=5, n_estimators=100 .................\n",
      "[CV]   learning_rate=1, max_depth=5, n_estimators=100, score=0.836, total=   0.4s\n",
      "[CV]  learning_rate=1, max_depth=5, n_estimators=100 .................\n",
      "[CV]   learning_rate=1, max_depth=5, n_estimators=100, score=0.840, total=   0.4s\n",
      "[CV]  learning_rate=1, max_depth=5, n_estimators=100 .................\n",
      "[CV]   learning_rate=1, max_depth=5, n_estimators=100, score=0.838, total=   0.4s\n",
      "[CV]  learning_rate=1, max_depth=5, n_estimators=100 .................\n",
      "[CV]   learning_rate=1, max_depth=5, n_estimators=100, score=0.837, total=   0.4s\n",
      "[CV]  learning_rate=1, max_depth=5, n_estimators=100 .................\n",
      "[CV]   learning_rate=1, max_depth=5, n_estimators=100, score=0.839, total=   0.4s\n",
      "[CV]  learning_rate=1, max_depth=5, n_estimators=200 .................\n",
      "[CV]   learning_rate=1, max_depth=5, n_estimators=200, score=0.836, total=   0.7s\n",
      "[CV]  learning_rate=1, max_depth=5, n_estimators=200 .................\n",
      "[CV]   learning_rate=1, max_depth=5, n_estimators=200, score=0.838, total=   0.8s\n",
      "[CV]  learning_rate=1, max_depth=5, n_estimators=200 .................\n",
      "[CV]   learning_rate=1, max_depth=5, n_estimators=200, score=0.838, total=   0.8s\n",
      "[CV]  learning_rate=1, max_depth=5, n_estimators=200 .................\n",
      "[CV]   learning_rate=1, max_depth=5, n_estimators=200, score=0.837, total=   0.7s\n",
      "[CV]  learning_rate=1, max_depth=5, n_estimators=200 .................\n",
      "[CV]   learning_rate=1, max_depth=5, n_estimators=200, score=0.835, total=   0.8s\n",
      "[CV]  learning_rate=1, max_depth=10, n_estimators=10 .................\n",
      "[CV]   learning_rate=1, max_depth=10, n_estimators=10, score=0.838, total=   0.1s\n",
      "[CV]  learning_rate=1, max_depth=10, n_estimators=10 .................\n",
      "[CV]   learning_rate=1, max_depth=10, n_estimators=10, score=0.834, total=   0.1s\n",
      "[CV]  learning_rate=1, max_depth=10, n_estimators=10 .................\n",
      "[CV]   learning_rate=1, max_depth=10, n_estimators=10, score=0.839, total=   0.1s\n",
      "[CV]  learning_rate=1, max_depth=10, n_estimators=10 .................\n",
      "[CV]   learning_rate=1, max_depth=10, n_estimators=10, score=0.839, total=   0.1s\n",
      "[CV]  learning_rate=1, max_depth=10, n_estimators=10 .................\n",
      "[CV]   learning_rate=1, max_depth=10, n_estimators=10, score=0.833, total=   0.1s\n",
      "[CV]  learning_rate=1, max_depth=10, n_estimators=50 .................\n",
      "[CV]   learning_rate=1, max_depth=10, n_estimators=50, score=0.838, total=   0.3s\n",
      "[CV]  learning_rate=1, max_depth=10, n_estimators=50 .................\n",
      "[CV]   learning_rate=1, max_depth=10, n_estimators=50, score=0.836, total=   0.4s\n",
      "[CV]  learning_rate=1, max_depth=10, n_estimators=50 .................\n",
      "[CV]   learning_rate=1, max_depth=10, n_estimators=50, score=0.840, total=   0.4s\n",
      "[CV]  learning_rate=1, max_depth=10, n_estimators=50 .................\n",
      "[CV]   learning_rate=1, max_depth=10, n_estimators=50, score=0.839, total=   0.4s\n",
      "[CV]  learning_rate=1, max_depth=10, n_estimators=50 .................\n",
      "[CV]   learning_rate=1, max_depth=10, n_estimators=50, score=0.836, total=   0.4s\n",
      "[CV]  learning_rate=1, max_depth=10, n_estimators=100 ................\n",
      "[CV]   learning_rate=1, max_depth=10, n_estimators=100, score=0.834, total=   0.7s\n",
      "[CV]  learning_rate=1, max_depth=10, n_estimators=100 ................\n",
      "[CV]   learning_rate=1, max_depth=10, n_estimators=100, score=0.834, total=   0.7s\n",
      "[CV]  learning_rate=1, max_depth=10, n_estimators=100 ................\n",
      "[CV]   learning_rate=1, max_depth=10, n_estimators=100, score=0.835, total=   0.7s\n",
      "[CV]  learning_rate=1, max_depth=10, n_estimators=100 ................\n",
      "[CV]   learning_rate=1, max_depth=10, n_estimators=100, score=0.836, total=   0.7s\n",
      "[CV]  learning_rate=1, max_depth=10, n_estimators=100 ................\n",
      "[CV]   learning_rate=1, max_depth=10, n_estimators=100, score=0.836, total=   0.7s\n",
      "[CV]  learning_rate=1, max_depth=10, n_estimators=200 ................\n",
      "[CV]   learning_rate=1, max_depth=10, n_estimators=200, score=0.832, total=   1.3s\n",
      "[CV]  learning_rate=1, max_depth=10, n_estimators=200 ................\n",
      "[CV]   learning_rate=1, max_depth=10, n_estimators=200, score=0.823, total=   1.3s\n",
      "[CV]  learning_rate=1, max_depth=10, n_estimators=200 ................\n",
      "[CV]   learning_rate=1, max_depth=10, n_estimators=200, score=0.827, total=   1.4s\n",
      "[CV]  learning_rate=1, max_depth=10, n_estimators=200 ................\n",
      "[CV]   learning_rate=1, max_depth=10, n_estimators=200, score=0.831, total=   1.3s\n",
      "[CV]  learning_rate=1, max_depth=10, n_estimators=200 ................\n"
     ]
    },
    {
     "name": "stdout",
     "output_type": "stream",
     "text": [
      "[CV]   learning_rate=1, max_depth=10, n_estimators=200, score=0.828, total=   1.3s\n",
      "[CV]  learning_rate=1, max_depth=20, n_estimators=10 .................\n",
      "[CV]   learning_rate=1, max_depth=20, n_estimators=10, score=0.831, total=   0.1s\n",
      "[CV]  learning_rate=1, max_depth=20, n_estimators=10 .................\n",
      "[CV]   learning_rate=1, max_depth=20, n_estimators=10, score=0.825, total=   0.1s\n",
      "[CV]  learning_rate=1, max_depth=20, n_estimators=10 .................\n",
      "[CV]   learning_rate=1, max_depth=20, n_estimators=10, score=0.830, total=   0.1s\n",
      "[CV]  learning_rate=1, max_depth=20, n_estimators=10 .................\n",
      "[CV]   learning_rate=1, max_depth=20, n_estimators=10, score=0.832, total=   0.1s\n",
      "[CV]  learning_rate=1, max_depth=20, n_estimators=10 .................\n",
      "[CV]   learning_rate=1, max_depth=20, n_estimators=10, score=0.830, total=   0.1s\n",
      "[CV]  learning_rate=1, max_depth=20, n_estimators=50 .................\n",
      "[CV]   learning_rate=1, max_depth=20, n_estimators=50, score=0.825, total=   0.6s\n",
      "[CV]  learning_rate=1, max_depth=20, n_estimators=50 .................\n",
      "[CV]   learning_rate=1, max_depth=20, n_estimators=50, score=0.819, total=   0.6s\n",
      "[CV]  learning_rate=1, max_depth=20, n_estimators=50 .................\n",
      "[CV]   learning_rate=1, max_depth=20, n_estimators=50, score=0.825, total=   0.7s\n",
      "[CV]  learning_rate=1, max_depth=20, n_estimators=50 .................\n",
      "[CV]   learning_rate=1, max_depth=20, n_estimators=50, score=0.828, total=   0.6s\n",
      "[CV]  learning_rate=1, max_depth=20, n_estimators=50 .................\n",
      "[CV]   learning_rate=1, max_depth=20, n_estimators=50, score=0.828, total=   0.6s\n",
      "[CV]  learning_rate=1, max_depth=20, n_estimators=100 ................\n",
      "[CV]   learning_rate=1, max_depth=20, n_estimators=100, score=0.821, total=   1.2s\n",
      "[CV]  learning_rate=1, max_depth=20, n_estimators=100 ................\n",
      "[CV]   learning_rate=1, max_depth=20, n_estimators=100, score=0.810, total=   1.3s\n",
      "[CV]  learning_rate=1, max_depth=20, n_estimators=100 ................\n",
      "[CV]   learning_rate=1, max_depth=20, n_estimators=100, score=0.818, total=   1.2s\n",
      "[CV]  learning_rate=1, max_depth=20, n_estimators=100 ................\n",
      "[CV]   learning_rate=1, max_depth=20, n_estimators=100, score=0.826, total=   1.2s\n",
      "[CV]  learning_rate=1, max_depth=20, n_estimators=100 ................\n",
      "[CV]   learning_rate=1, max_depth=20, n_estimators=100, score=0.825, total=   1.2s\n",
      "[CV]  learning_rate=1, max_depth=20, n_estimators=200 ................\n",
      "[CV]   learning_rate=1, max_depth=20, n_estimators=200, score=0.819, total=   2.9s\n",
      "[CV]  learning_rate=1, max_depth=20, n_estimators=200 ................\n",
      "[CV]   learning_rate=1, max_depth=20, n_estimators=200, score=0.802, total=   3.7s\n",
      "[CV]  learning_rate=1, max_depth=20, n_estimators=200 ................\n",
      "[CV]   learning_rate=1, max_depth=20, n_estimators=200, score=0.811, total=   2.5s\n",
      "[CV]  learning_rate=1, max_depth=20, n_estimators=200 ................\n",
      "[CV]   learning_rate=1, max_depth=20, n_estimators=200, score=0.819, total=   3.2s\n",
      "[CV]  learning_rate=1, max_depth=20, n_estimators=200 ................\n",
      "[CV]   learning_rate=1, max_depth=20, n_estimators=200, score=0.814, total=   2.8s\n",
      "[CV]  learning_rate=1, max_depth=50, n_estimators=10 .................\n",
      "[CV]   learning_rate=1, max_depth=50, n_estimators=10, score=0.831, total=   0.1s\n",
      "[CV]  learning_rate=1, max_depth=50, n_estimators=10 .................\n",
      "[CV]   learning_rate=1, max_depth=50, n_estimators=10, score=0.823, total=   0.1s\n",
      "[CV]  learning_rate=1, max_depth=50, n_estimators=10 .................\n",
      "[CV]   learning_rate=1, max_depth=50, n_estimators=10, score=0.830, total=   0.1s\n",
      "[CV]  learning_rate=1, max_depth=50, n_estimators=10 .................\n",
      "[CV]   learning_rate=1, max_depth=50, n_estimators=10, score=0.832, total=   0.1s\n",
      "[CV]  learning_rate=1, max_depth=50, n_estimators=10 .................\n",
      "[CV]   learning_rate=1, max_depth=50, n_estimators=10, score=0.830, total=   0.1s\n",
      "[CV]  learning_rate=1, max_depth=50, n_estimators=50 .................\n",
      "[CV]   learning_rate=1, max_depth=50, n_estimators=50, score=0.812, total=   1.0s\n",
      "[CV]  learning_rate=1, max_depth=50, n_estimators=50 .................\n",
      "[CV]   learning_rate=1, max_depth=50, n_estimators=50, score=0.809, total=   1.4s\n",
      "[CV]  learning_rate=1, max_depth=50, n_estimators=50 .................\n",
      "[CV]   learning_rate=1, max_depth=50, n_estimators=50, score=0.811, total=   1.1s\n",
      "[CV]  learning_rate=1, max_depth=50, n_estimators=50 .................\n",
      "[CV]   learning_rate=1, max_depth=50, n_estimators=50, score=0.822, total=   1.1s\n",
      "[CV]  learning_rate=1, max_depth=50, n_estimators=50 .................\n",
      "[CV]   learning_rate=1, max_depth=50, n_estimators=50, score=0.823, total=   1.2s\n",
      "[CV]  learning_rate=1, max_depth=50, n_estimators=100 ................\n",
      "[CV]   learning_rate=1, max_depth=50, n_estimators=100, score=0.807, total=   2.6s\n",
      "[CV]  learning_rate=1, max_depth=50, n_estimators=100 ................\n",
      "[CV]   learning_rate=1, max_depth=50, n_estimators=100, score=0.799, total=   2.7s\n",
      "[CV]  learning_rate=1, max_depth=50, n_estimators=100 ................\n",
      "[CV]   learning_rate=1, max_depth=50, n_estimators=100, score=0.804, total=   2.6s\n",
      "[CV]  learning_rate=1, max_depth=50, n_estimators=100 ................\n",
      "[CV]   learning_rate=1, max_depth=50, n_estimators=100, score=0.807, total=   2.5s\n",
      "[CV]  learning_rate=1, max_depth=50, n_estimators=100 ................\n",
      "[CV]   learning_rate=1, max_depth=50, n_estimators=100, score=0.814, total=   2.5s\n",
      "[CV]  learning_rate=1, max_depth=50, n_estimators=200 ................\n",
      "[CV]   learning_rate=1, max_depth=50, n_estimators=200, score=0.799, total=   5.1s\n",
      "[CV]  learning_rate=1, max_depth=50, n_estimators=200 ................\n",
      "[CV]   learning_rate=1, max_depth=50, n_estimators=200, score=0.787, total=   5.1s\n",
      "[CV]  learning_rate=1, max_depth=50, n_estimators=200 ................\n",
      "[CV]   learning_rate=1, max_depth=50, n_estimators=200, score=0.801, total=   5.9s\n",
      "[CV]  learning_rate=1, max_depth=50, n_estimators=200 ................\n",
      "[CV]   learning_rate=1, max_depth=50, n_estimators=200, score=0.805, total=   5.1s\n",
      "[CV]  learning_rate=1, max_depth=50, n_estimators=200 ................\n",
      "[CV]   learning_rate=1, max_depth=50, n_estimators=200, score=0.801, total=   5.1s\n",
      "[CV]  learning_rate=0.5, max_depth=3, n_estimators=10 ................\n",
      "[CV]   learning_rate=0.5, max_depth=3, n_estimators=10, score=0.839, total=   0.0s\n",
      "[CV]  learning_rate=0.5, max_depth=3, n_estimators=10 ................\n",
      "[CV]   learning_rate=0.5, max_depth=3, n_estimators=10, score=0.840, total=   0.0s\n",
      "[CV]  learning_rate=0.5, max_depth=3, n_estimators=10 ................\n",
      "[CV]   learning_rate=0.5, max_depth=3, n_estimators=10, score=0.840, total=   0.0s\n",
      "[CV]  learning_rate=0.5, max_depth=3, n_estimators=10 ................\n",
      "[CV]   learning_rate=0.5, max_depth=3, n_estimators=10, score=0.840, total=   0.0s\n",
      "[CV]  learning_rate=0.5, max_depth=3, n_estimators=10 ................\n",
      "[CV]   learning_rate=0.5, max_depth=3, n_estimators=10, score=0.836, total=   0.0s\n",
      "[CV]  learning_rate=0.5, max_depth=3, n_estimators=50 ................\n",
      "[CV]   learning_rate=0.5, max_depth=3, n_estimators=50, score=0.839, total=   0.1s\n",
      "[CV]  learning_rate=0.5, max_depth=3, n_estimators=50 ................\n",
      "[CV]   learning_rate=0.5, max_depth=3, n_estimators=50, score=0.840, total=   0.1s\n",
      "[CV]  learning_rate=0.5, max_depth=3, n_estimators=50 ................\n",
      "[CV]   learning_rate=0.5, max_depth=3, n_estimators=50, score=0.840, total=   0.1s\n",
      "[CV]  learning_rate=0.5, max_depth=3, n_estimators=50 ................\n",
      "[CV]   learning_rate=0.5, max_depth=3, n_estimators=50, score=0.840, total=   0.1s\n",
      "[CV]  learning_rate=0.5, max_depth=3, n_estimators=50 ................\n",
      "[CV]   learning_rate=0.5, max_depth=3, n_estimators=50, score=0.839, total=   0.1s\n",
      "[CV]  learning_rate=0.5, max_depth=3, n_estimators=100 ...............\n",
      "[CV]   learning_rate=0.5, max_depth=3, n_estimators=100, score=0.838, total=   0.3s\n",
      "[CV]  learning_rate=0.5, max_depth=3, n_estimators=100 ...............\n",
      "[CV]   learning_rate=0.5, max_depth=3, n_estimators=100, score=0.840, total=   0.3s\n",
      "[CV]  learning_rate=0.5, max_depth=3, n_estimators=100 ...............\n",
      "[CV]   learning_rate=0.5, max_depth=3, n_estimators=100, score=0.840, total=   0.3s\n",
      "[CV]  learning_rate=0.5, max_depth=3, n_estimators=100 ...............\n"
     ]
    },
    {
     "name": "stdout",
     "output_type": "stream",
     "text": [
      "[CV]   learning_rate=0.5, max_depth=3, n_estimators=100, score=0.839, total=   0.3s\n",
      "[CV]  learning_rate=0.5, max_depth=3, n_estimators=100 ...............\n",
      "[CV]   learning_rate=0.5, max_depth=3, n_estimators=100, score=0.837, total=   0.3s\n",
      "[CV]  learning_rate=0.5, max_depth=3, n_estimators=200 ...............\n",
      "[CV]   learning_rate=0.5, max_depth=3, n_estimators=200, score=0.838, total=   0.5s\n",
      "[CV]  learning_rate=0.5, max_depth=3, n_estimators=200 ...............\n",
      "[CV]   learning_rate=0.5, max_depth=3, n_estimators=200, score=0.840, total=   0.5s\n",
      "[CV]  learning_rate=0.5, max_depth=3, n_estimators=200 ...............\n",
      "[CV]   learning_rate=0.5, max_depth=3, n_estimators=200, score=0.839, total=   0.5s\n",
      "[CV]  learning_rate=0.5, max_depth=3, n_estimators=200 ...............\n",
      "[CV]   learning_rate=0.5, max_depth=3, n_estimators=200, score=0.837, total=   0.5s\n",
      "[CV]  learning_rate=0.5, max_depth=3, n_estimators=200 ...............\n",
      "[CV]   learning_rate=0.5, max_depth=3, n_estimators=200, score=0.837, total=   0.5s\n",
      "[CV]  learning_rate=0.5, max_depth=5, n_estimators=10 ................\n",
      "[CV]   learning_rate=0.5, max_depth=5, n_estimators=10, score=0.839, total=   0.0s\n",
      "[CV]  learning_rate=0.5, max_depth=5, n_estimators=10 ................\n",
      "[CV]   learning_rate=0.5, max_depth=5, n_estimators=10, score=0.838, total=   0.0s\n",
      "[CV]  learning_rate=0.5, max_depth=5, n_estimators=10 ................\n",
      "[CV]   learning_rate=0.5, max_depth=5, n_estimators=10, score=0.840, total=   0.0s\n",
      "[CV]  learning_rate=0.5, max_depth=5, n_estimators=10 ................\n",
      "[CV]   learning_rate=0.5, max_depth=5, n_estimators=10, score=0.839, total=   0.0s\n",
      "[CV]  learning_rate=0.5, max_depth=5, n_estimators=10 ................\n",
      "[CV]   learning_rate=0.5, max_depth=5, n_estimators=10, score=0.837, total=   0.0s\n",
      "[CV]  learning_rate=0.5, max_depth=5, n_estimators=50 ................\n",
      "[CV]   learning_rate=0.5, max_depth=5, n_estimators=50, score=0.838, total=   0.2s\n",
      "[CV]  learning_rate=0.5, max_depth=5, n_estimators=50 ................\n",
      "[CV]   learning_rate=0.5, max_depth=5, n_estimators=50, score=0.840, total=   0.2s\n",
      "[CV]  learning_rate=0.5, max_depth=5, n_estimators=50 ................\n",
      "[CV]   learning_rate=0.5, max_depth=5, n_estimators=50, score=0.837, total=   0.2s\n",
      "[CV]  learning_rate=0.5, max_depth=5, n_estimators=50 ................\n",
      "[CV]   learning_rate=0.5, max_depth=5, n_estimators=50, score=0.840, total=   0.2s\n",
      "[CV]  learning_rate=0.5, max_depth=5, n_estimators=50 ................\n",
      "[CV]   learning_rate=0.5, max_depth=5, n_estimators=50, score=0.841, total=   0.2s\n",
      "[CV]  learning_rate=0.5, max_depth=5, n_estimators=100 ...............\n",
      "[CV]   learning_rate=0.5, max_depth=5, n_estimators=100, score=0.836, total=   0.4s\n",
      "[CV]  learning_rate=0.5, max_depth=5, n_estimators=100 ...............\n",
      "[CV]   learning_rate=0.5, max_depth=5, n_estimators=100, score=0.840, total=   0.4s\n",
      "[CV]  learning_rate=0.5, max_depth=5, n_estimators=100 ...............\n",
      "[CV]   learning_rate=0.5, max_depth=5, n_estimators=100, score=0.838, total=   0.4s\n",
      "[CV]  learning_rate=0.5, max_depth=5, n_estimators=100 ...............\n",
      "[CV]   learning_rate=0.5, max_depth=5, n_estimators=100, score=0.837, total=   0.4s\n",
      "[CV]  learning_rate=0.5, max_depth=5, n_estimators=100 ...............\n",
      "[CV]   learning_rate=0.5, max_depth=5, n_estimators=100, score=0.839, total=   0.4s\n",
      "[CV]  learning_rate=0.5, max_depth=5, n_estimators=200 ...............\n",
      "[CV]   learning_rate=0.5, max_depth=5, n_estimators=200, score=0.836, total=   0.7s\n",
      "[CV]  learning_rate=0.5, max_depth=5, n_estimators=200 ...............\n",
      "[CV]   learning_rate=0.5, max_depth=5, n_estimators=200, score=0.838, total=   0.7s\n",
      "[CV]  learning_rate=0.5, max_depth=5, n_estimators=200 ...............\n",
      "[CV]   learning_rate=0.5, max_depth=5, n_estimators=200, score=0.838, total=   0.7s\n",
      "[CV]  learning_rate=0.5, max_depth=5, n_estimators=200 ...............\n",
      "[CV]   learning_rate=0.5, max_depth=5, n_estimators=200, score=0.837, total=   0.7s\n",
      "[CV]  learning_rate=0.5, max_depth=5, n_estimators=200 ...............\n",
      "[CV]   learning_rate=0.5, max_depth=5, n_estimators=200, score=0.835, total=   0.7s\n",
      "[CV]  learning_rate=0.5, max_depth=10, n_estimators=10 ...............\n",
      "[CV]   learning_rate=0.5, max_depth=10, n_estimators=10, score=0.838, total=   0.1s\n",
      "[CV]  learning_rate=0.5, max_depth=10, n_estimators=10 ...............\n",
      "[CV]   learning_rate=0.5, max_depth=10, n_estimators=10, score=0.834, total=   0.1s\n",
      "[CV]  learning_rate=0.5, max_depth=10, n_estimators=10 ...............\n",
      "[CV]   learning_rate=0.5, max_depth=10, n_estimators=10, score=0.839, total=   0.1s\n",
      "[CV]  learning_rate=0.5, max_depth=10, n_estimators=10 ...............\n",
      "[CV]   learning_rate=0.5, max_depth=10, n_estimators=10, score=0.839, total=   0.1s\n",
      "[CV]  learning_rate=0.5, max_depth=10, n_estimators=10 ...............\n",
      "[CV]   learning_rate=0.5, max_depth=10, n_estimators=10, score=0.833, total=   0.1s\n",
      "[CV]  learning_rate=0.5, max_depth=10, n_estimators=50 ...............\n",
      "[CV]   learning_rate=0.5, max_depth=10, n_estimators=50, score=0.838, total=   0.3s\n",
      "[CV]  learning_rate=0.5, max_depth=10, n_estimators=50 ...............\n",
      "[CV]   learning_rate=0.5, max_depth=10, n_estimators=50, score=0.836, total=   0.3s\n",
      "[CV]  learning_rate=0.5, max_depth=10, n_estimators=50 ...............\n",
      "[CV]   learning_rate=0.5, max_depth=10, n_estimators=50, score=0.840, total=   0.4s\n",
      "[CV]  learning_rate=0.5, max_depth=10, n_estimators=50 ...............\n",
      "[CV]   learning_rate=0.5, max_depth=10, n_estimators=50, score=0.839, total=   0.4s\n",
      "[CV]  learning_rate=0.5, max_depth=10, n_estimators=50 ...............\n",
      "[CV]   learning_rate=0.5, max_depth=10, n_estimators=50, score=0.836, total=   0.4s\n",
      "[CV]  learning_rate=0.5, max_depth=10, n_estimators=100 ..............\n",
      "[CV]   learning_rate=0.5, max_depth=10, n_estimators=100, score=0.834, total=   0.7s\n",
      "[CV]  learning_rate=0.5, max_depth=10, n_estimators=100 ..............\n",
      "[CV]   learning_rate=0.5, max_depth=10, n_estimators=100, score=0.834, total=   0.7s\n",
      "[CV]  learning_rate=0.5, max_depth=10, n_estimators=100 ..............\n",
      "[CV]   learning_rate=0.5, max_depth=10, n_estimators=100, score=0.835, total=   0.7s\n",
      "[CV]  learning_rate=0.5, max_depth=10, n_estimators=100 ..............\n",
      "[CV]   learning_rate=0.5, max_depth=10, n_estimators=100, score=0.836, total=   0.7s\n",
      "[CV]  learning_rate=0.5, max_depth=10, n_estimators=100 ..............\n",
      "[CV]   learning_rate=0.5, max_depth=10, n_estimators=100, score=0.836, total=   0.7s\n",
      "[CV]  learning_rate=0.5, max_depth=10, n_estimators=200 ..............\n",
      "[CV]   learning_rate=0.5, max_depth=10, n_estimators=200, score=0.832, total=   1.3s\n",
      "[CV]  learning_rate=0.5, max_depth=10, n_estimators=200 ..............\n",
      "[CV]   learning_rate=0.5, max_depth=10, n_estimators=200, score=0.823, total=   1.3s\n",
      "[CV]  learning_rate=0.5, max_depth=10, n_estimators=200 ..............\n",
      "[CV]   learning_rate=0.5, max_depth=10, n_estimators=200, score=0.827, total=   1.3s\n",
      "[CV]  learning_rate=0.5, max_depth=10, n_estimators=200 ..............\n",
      "[CV]   learning_rate=0.5, max_depth=10, n_estimators=200, score=0.831, total=   1.3s\n",
      "[CV]  learning_rate=0.5, max_depth=10, n_estimators=200 ..............\n",
      "[CV]   learning_rate=0.5, max_depth=10, n_estimators=200, score=0.828, total=   1.3s\n",
      "[CV]  learning_rate=0.5, max_depth=20, n_estimators=10 ...............\n",
      "[CV]   learning_rate=0.5, max_depth=20, n_estimators=10, score=0.831, total=   0.1s\n",
      "[CV]  learning_rate=0.5, max_depth=20, n_estimators=10 ...............\n",
      "[CV]   learning_rate=0.5, max_depth=20, n_estimators=10, score=0.825, total=   0.1s\n",
      "[CV]  learning_rate=0.5, max_depth=20, n_estimators=10 ...............\n",
      "[CV]   learning_rate=0.5, max_depth=20, n_estimators=10, score=0.830, total=   0.1s\n",
      "[CV]  learning_rate=0.5, max_depth=20, n_estimators=10 ...............\n",
      "[CV]   learning_rate=0.5, max_depth=20, n_estimators=10, score=0.832, total=   0.1s\n",
      "[CV]  learning_rate=0.5, max_depth=20, n_estimators=10 ...............\n",
      "[CV]   learning_rate=0.5, max_depth=20, n_estimators=10, score=0.830, total=   0.1s\n",
      "[CV]  learning_rate=0.5, max_depth=20, n_estimators=50 ...............\n",
      "[CV]   learning_rate=0.5, max_depth=20, n_estimators=50, score=0.825, total=   0.6s\n",
      "[CV]  learning_rate=0.5, max_depth=20, n_estimators=50 ...............\n"
     ]
    },
    {
     "name": "stdout",
     "output_type": "stream",
     "text": [
      "[CV]   learning_rate=0.5, max_depth=20, n_estimators=50, score=0.819, total=   0.6s\n",
      "[CV]  learning_rate=0.5, max_depth=20, n_estimators=50 ...............\n",
      "[CV]   learning_rate=0.5, max_depth=20, n_estimators=50, score=0.825, total=   0.6s\n",
      "[CV]  learning_rate=0.5, max_depth=20, n_estimators=50 ...............\n",
      "[CV]   learning_rate=0.5, max_depth=20, n_estimators=50, score=0.828, total=   0.6s\n",
      "[CV]  learning_rate=0.5, max_depth=20, n_estimators=50 ...............\n",
      "[CV]   learning_rate=0.5, max_depth=20, n_estimators=50, score=0.828, total=   0.6s\n",
      "[CV]  learning_rate=0.5, max_depth=20, n_estimators=100 ..............\n",
      "[CV]   learning_rate=0.5, max_depth=20, n_estimators=100, score=0.821, total=   1.2s\n",
      "[CV]  learning_rate=0.5, max_depth=20, n_estimators=100 ..............\n",
      "[CV]   learning_rate=0.5, max_depth=20, n_estimators=100, score=0.810, total=   1.2s\n",
      "[CV]  learning_rate=0.5, max_depth=20, n_estimators=100 ..............\n",
      "[CV]   learning_rate=0.5, max_depth=20, n_estimators=100, score=0.818, total=   1.2s\n",
      "[CV]  learning_rate=0.5, max_depth=20, n_estimators=100 ..............\n",
      "[CV]   learning_rate=0.5, max_depth=20, n_estimators=100, score=0.826, total=   1.3s\n",
      "[CV]  learning_rate=0.5, max_depth=20, n_estimators=100 ..............\n",
      "[CV]   learning_rate=0.5, max_depth=20, n_estimators=100, score=0.825, total=   1.6s\n",
      "[CV]  learning_rate=0.5, max_depth=20, n_estimators=200 ..............\n",
      "[CV]   learning_rate=0.5, max_depth=20, n_estimators=200, score=0.819, total=   2.7s\n",
      "[CV]  learning_rate=0.5, max_depth=20, n_estimators=200 ..............\n",
      "[CV]   learning_rate=0.5, max_depth=20, n_estimators=200, score=0.802, total=   2.8s\n",
      "[CV]  learning_rate=0.5, max_depth=20, n_estimators=200 ..............\n",
      "[CV]   learning_rate=0.5, max_depth=20, n_estimators=200, score=0.811, total=   2.8s\n",
      "[CV]  learning_rate=0.5, max_depth=20, n_estimators=200 ..............\n",
      "[CV]   learning_rate=0.5, max_depth=20, n_estimators=200, score=0.819, total=   2.8s\n",
      "[CV]  learning_rate=0.5, max_depth=20, n_estimators=200 ..............\n",
      "[CV]   learning_rate=0.5, max_depth=20, n_estimators=200, score=0.814, total=   2.9s\n",
      "[CV]  learning_rate=0.5, max_depth=50, n_estimators=10 ...............\n",
      "[CV]   learning_rate=0.5, max_depth=50, n_estimators=10, score=0.831, total=   0.1s\n",
      "[CV]  learning_rate=0.5, max_depth=50, n_estimators=10 ...............\n",
      "[CV]   learning_rate=0.5, max_depth=50, n_estimators=10, score=0.823, total=   0.2s\n",
      "[CV]  learning_rate=0.5, max_depth=50, n_estimators=10 ...............\n",
      "[CV]   learning_rate=0.5, max_depth=50, n_estimators=10, score=0.830, total=   0.2s\n",
      "[CV]  learning_rate=0.5, max_depth=50, n_estimators=10 ...............\n",
      "[CV]   learning_rate=0.5, max_depth=50, n_estimators=10, score=0.832, total=   0.2s\n",
      "[CV]  learning_rate=0.5, max_depth=50, n_estimators=10 ...............\n",
      "[CV]   learning_rate=0.5, max_depth=50, n_estimators=10, score=0.830, total=   0.2s\n",
      "[CV]  learning_rate=0.5, max_depth=50, n_estimators=50 ...............\n",
      "[CV]   learning_rate=0.5, max_depth=50, n_estimators=50, score=0.812, total=   1.2s\n",
      "[CV]  learning_rate=0.5, max_depth=50, n_estimators=50 ...............\n",
      "[CV]   learning_rate=0.5, max_depth=50, n_estimators=50, score=0.809, total=   1.1s\n",
      "[CV]  learning_rate=0.5, max_depth=50, n_estimators=50 ...............\n",
      "[CV]   learning_rate=0.5, max_depth=50, n_estimators=50, score=0.811, total=   1.1s\n",
      "[CV]  learning_rate=0.5, max_depth=50, n_estimators=50 ...............\n",
      "[CV]   learning_rate=0.5, max_depth=50, n_estimators=50, score=0.822, total=   1.3s\n",
      "[CV]  learning_rate=0.5, max_depth=50, n_estimators=50 ...............\n",
      "[CV]   learning_rate=0.5, max_depth=50, n_estimators=50, score=0.823, total=   1.4s\n",
      "[CV]  learning_rate=0.5, max_depth=50, n_estimators=100 ..............\n",
      "[CV]   learning_rate=0.5, max_depth=50, n_estimators=100, score=0.807, total=   2.8s\n",
      "[CV]  learning_rate=0.5, max_depth=50, n_estimators=100 ..............\n",
      "[CV]   learning_rate=0.5, max_depth=50, n_estimators=100, score=0.799, total=   2.4s\n",
      "[CV]  learning_rate=0.5, max_depth=50, n_estimators=100 ..............\n",
      "[CV]   learning_rate=0.5, max_depth=50, n_estimators=100, score=0.804, total=   2.6s\n",
      "[CV]  learning_rate=0.5, max_depth=50, n_estimators=100 ..............\n",
      "[CV]   learning_rate=0.5, max_depth=50, n_estimators=100, score=0.807, total=   2.5s\n",
      "[CV]  learning_rate=0.5, max_depth=50, n_estimators=100 ..............\n",
      "[CV]   learning_rate=0.5, max_depth=50, n_estimators=100, score=0.814, total=   2.8s\n",
      "[CV]  learning_rate=0.5, max_depth=50, n_estimators=200 ..............\n",
      "[CV]   learning_rate=0.5, max_depth=50, n_estimators=200, score=0.799, total=   5.5s\n",
      "[CV]  learning_rate=0.5, max_depth=50, n_estimators=200 ..............\n",
      "[CV]   learning_rate=0.5, max_depth=50, n_estimators=200, score=0.787, total=   5.0s\n",
      "[CV]  learning_rate=0.5, max_depth=50, n_estimators=200 ..............\n",
      "[CV]   learning_rate=0.5, max_depth=50, n_estimators=200, score=0.801, total=   5.0s\n",
      "[CV]  learning_rate=0.5, max_depth=50, n_estimators=200 ..............\n",
      "[CV]   learning_rate=0.5, max_depth=50, n_estimators=200, score=0.805, total=   5.1s\n",
      "[CV]  learning_rate=0.5, max_depth=50, n_estimators=200 ..............\n",
      "[CV]   learning_rate=0.5, max_depth=50, n_estimators=200, score=0.801, total=   5.0s\n",
      "[CV]  learning_rate=0.1, max_depth=3, n_estimators=10 ................\n",
      "[CV]   learning_rate=0.1, max_depth=3, n_estimators=10, score=0.839, total=   0.0s\n",
      "[CV]  learning_rate=0.1, max_depth=3, n_estimators=10 ................\n",
      "[CV]   learning_rate=0.1, max_depth=3, n_estimators=10, score=0.840, total=   0.0s\n",
      "[CV]  learning_rate=0.1, max_depth=3, n_estimators=10 ................\n",
      "[CV]   learning_rate=0.1, max_depth=3, n_estimators=10, score=0.840, total=   0.0s\n",
      "[CV]  learning_rate=0.1, max_depth=3, n_estimators=10 ................\n",
      "[CV]   learning_rate=0.1, max_depth=3, n_estimators=10, score=0.840, total=   0.0s\n",
      "[CV]  learning_rate=0.1, max_depth=3, n_estimators=10 ................\n",
      "[CV]   learning_rate=0.1, max_depth=3, n_estimators=10, score=0.836, total=   0.0s\n",
      "[CV]  learning_rate=0.1, max_depth=3, n_estimators=50 ................\n",
      "[CV]   learning_rate=0.1, max_depth=3, n_estimators=50, score=0.839, total=   0.1s\n",
      "[CV]  learning_rate=0.1, max_depth=3, n_estimators=50 ................\n",
      "[CV]   learning_rate=0.1, max_depth=3, n_estimators=50, score=0.840, total=   0.1s\n",
      "[CV]  learning_rate=0.1, max_depth=3, n_estimators=50 ................\n",
      "[CV]   learning_rate=0.1, max_depth=3, n_estimators=50, score=0.840, total=   0.1s\n",
      "[CV]  learning_rate=0.1, max_depth=3, n_estimators=50 ................\n",
      "[CV]   learning_rate=0.1, max_depth=3, n_estimators=50, score=0.840, total=   0.1s\n",
      "[CV]  learning_rate=0.1, max_depth=3, n_estimators=50 ................\n",
      "[CV]   learning_rate=0.1, max_depth=3, n_estimators=50, score=0.839, total=   0.1s\n",
      "[CV]  learning_rate=0.1, max_depth=3, n_estimators=100 ...............\n",
      "[CV]   learning_rate=0.1, max_depth=3, n_estimators=100, score=0.838, total=   0.3s\n",
      "[CV]  learning_rate=0.1, max_depth=3, n_estimators=100 ...............\n",
      "[CV]   learning_rate=0.1, max_depth=3, n_estimators=100, score=0.840, total=   0.4s\n",
      "[CV]  learning_rate=0.1, max_depth=3, n_estimators=100 ...............\n",
      "[CV]   learning_rate=0.1, max_depth=3, n_estimators=100, score=0.840, total=   0.4s\n",
      "[CV]  learning_rate=0.1, max_depth=3, n_estimators=100 ...............\n",
      "[CV]   learning_rate=0.1, max_depth=3, n_estimators=100, score=0.839, total=   0.3s\n",
      "[CV]  learning_rate=0.1, max_depth=3, n_estimators=100 ...............\n",
      "[CV]   learning_rate=0.1, max_depth=3, n_estimators=100, score=0.837, total=   0.3s\n",
      "[CV]  learning_rate=0.1, max_depth=3, n_estimators=200 ...............\n",
      "[CV]   learning_rate=0.1, max_depth=3, n_estimators=200, score=0.838, total=   0.6s\n",
      "[CV]  learning_rate=0.1, max_depth=3, n_estimators=200 ...............\n",
      "[CV]   learning_rate=0.1, max_depth=3, n_estimators=200, score=0.840, total=   0.6s\n",
      "[CV]  learning_rate=0.1, max_depth=3, n_estimators=200 ...............\n",
      "[CV]   learning_rate=0.1, max_depth=3, n_estimators=200, score=0.839, total=   1.7s\n",
      "[CV]  learning_rate=0.1, max_depth=3, n_estimators=200 ...............\n",
      "[CV]   learning_rate=0.1, max_depth=3, n_estimators=200, score=0.837, total=   1.0s\n",
      "[CV]  learning_rate=0.1, max_depth=3, n_estimators=200 ...............\n"
     ]
    },
    {
     "name": "stdout",
     "output_type": "stream",
     "text": [
      "[CV]   learning_rate=0.1, max_depth=3, n_estimators=200, score=0.837, total=   1.2s\n",
      "[CV]  learning_rate=0.1, max_depth=5, n_estimators=10 ................\n",
      "[CV]   learning_rate=0.1, max_depth=5, n_estimators=10, score=0.839, total=   0.1s\n",
      "[CV]  learning_rate=0.1, max_depth=5, n_estimators=10 ................\n",
      "[CV]   learning_rate=0.1, max_depth=5, n_estimators=10, score=0.838, total=   0.1s\n",
      "[CV]  learning_rate=0.1, max_depth=5, n_estimators=10 ................\n",
      "[CV]   learning_rate=0.1, max_depth=5, n_estimators=10, score=0.840, total=   0.0s\n",
      "[CV]  learning_rate=0.1, max_depth=5, n_estimators=10 ................\n",
      "[CV]   learning_rate=0.1, max_depth=5, n_estimators=10, score=0.839, total=   0.1s\n",
      "[CV]  learning_rate=0.1, max_depth=5, n_estimators=10 ................\n",
      "[CV]   learning_rate=0.1, max_depth=5, n_estimators=10, score=0.837, total=   0.0s\n",
      "[CV]  learning_rate=0.1, max_depth=5, n_estimators=50 ................\n",
      "[CV]   learning_rate=0.1, max_depth=5, n_estimators=50, score=0.838, total=   0.2s\n",
      "[CV]  learning_rate=0.1, max_depth=5, n_estimators=50 ................\n",
      "[CV]   learning_rate=0.1, max_depth=5, n_estimators=50, score=0.840, total=   0.2s\n",
      "[CV]  learning_rate=0.1, max_depth=5, n_estimators=50 ................\n",
      "[CV]   learning_rate=0.1, max_depth=5, n_estimators=50, score=0.837, total=   0.2s\n",
      "[CV]  learning_rate=0.1, max_depth=5, n_estimators=50 ................\n",
      "[CV]   learning_rate=0.1, max_depth=5, n_estimators=50, score=0.840, total=   0.2s\n",
      "[CV]  learning_rate=0.1, max_depth=5, n_estimators=50 ................\n",
      "[CV]   learning_rate=0.1, max_depth=5, n_estimators=50, score=0.841, total=   0.2s\n",
      "[CV]  learning_rate=0.1, max_depth=5, n_estimators=100 ...............\n",
      "[CV]   learning_rate=0.1, max_depth=5, n_estimators=100, score=0.836, total=   0.4s\n",
      "[CV]  learning_rate=0.1, max_depth=5, n_estimators=100 ...............\n",
      "[CV]   learning_rate=0.1, max_depth=5, n_estimators=100, score=0.840, total=   0.4s\n",
      "[CV]  learning_rate=0.1, max_depth=5, n_estimators=100 ...............\n",
      "[CV]   learning_rate=0.1, max_depth=5, n_estimators=100, score=0.838, total=   0.4s\n",
      "[CV]  learning_rate=0.1, max_depth=5, n_estimators=100 ...............\n",
      "[CV]   learning_rate=0.1, max_depth=5, n_estimators=100, score=0.837, total=   0.4s\n",
      "[CV]  learning_rate=0.1, max_depth=5, n_estimators=100 ...............\n",
      "[CV]   learning_rate=0.1, max_depth=5, n_estimators=100, score=0.839, total=   0.4s\n",
      "[CV]  learning_rate=0.1, max_depth=5, n_estimators=200 ...............\n",
      "[CV]   learning_rate=0.1, max_depth=5, n_estimators=200, score=0.836, total=   0.8s\n",
      "[CV]  learning_rate=0.1, max_depth=5, n_estimators=200 ...............\n",
      "[CV]   learning_rate=0.1, max_depth=5, n_estimators=200, score=0.838, total=   0.7s\n",
      "[CV]  learning_rate=0.1, max_depth=5, n_estimators=200 ...............\n",
      "[CV]   learning_rate=0.1, max_depth=5, n_estimators=200, score=0.838, total=   0.8s\n",
      "[CV]  learning_rate=0.1, max_depth=5, n_estimators=200 ...............\n",
      "[CV]   learning_rate=0.1, max_depth=5, n_estimators=200, score=0.837, total=   0.7s\n",
      "[CV]  learning_rate=0.1, max_depth=5, n_estimators=200 ...............\n",
      "[CV]   learning_rate=0.1, max_depth=5, n_estimators=200, score=0.835, total=   0.7s\n",
      "[CV]  learning_rate=0.1, max_depth=10, n_estimators=10 ...............\n",
      "[CV]   learning_rate=0.1, max_depth=10, n_estimators=10, score=0.838, total=   0.1s\n",
      "[CV]  learning_rate=0.1, max_depth=10, n_estimators=10 ...............\n",
      "[CV]   learning_rate=0.1, max_depth=10, n_estimators=10, score=0.834, total=   0.1s\n",
      "[CV]  learning_rate=0.1, max_depth=10, n_estimators=10 ...............\n",
      "[CV]   learning_rate=0.1, max_depth=10, n_estimators=10, score=0.839, total=   0.1s\n",
      "[CV]  learning_rate=0.1, max_depth=10, n_estimators=10 ...............\n",
      "[CV]   learning_rate=0.1, max_depth=10, n_estimators=10, score=0.839, total=   0.1s\n",
      "[CV]  learning_rate=0.1, max_depth=10, n_estimators=10 ...............\n",
      "[CV]   learning_rate=0.1, max_depth=10, n_estimators=10, score=0.833, total=   0.1s\n",
      "[CV]  learning_rate=0.1, max_depth=10, n_estimators=50 ...............\n",
      "[CV]   learning_rate=0.1, max_depth=10, n_estimators=50, score=0.838, total=   0.3s\n",
      "[CV]  learning_rate=0.1, max_depth=10, n_estimators=50 ...............\n",
      "[CV]   learning_rate=0.1, max_depth=10, n_estimators=50, score=0.836, total=   0.3s\n",
      "[CV]  learning_rate=0.1, max_depth=10, n_estimators=50 ...............\n",
      "[CV]   learning_rate=0.1, max_depth=10, n_estimators=50, score=0.840, total=   0.4s\n",
      "[CV]  learning_rate=0.1, max_depth=10, n_estimators=50 ...............\n",
      "[CV]   learning_rate=0.1, max_depth=10, n_estimators=50, score=0.839, total=   0.4s\n",
      "[CV]  learning_rate=0.1, max_depth=10, n_estimators=50 ...............\n",
      "[CV]   learning_rate=0.1, max_depth=10, n_estimators=50, score=0.836, total=   0.4s\n",
      "[CV]  learning_rate=0.1, max_depth=10, n_estimators=100 ..............\n",
      "[CV]   learning_rate=0.1, max_depth=10, n_estimators=100, score=0.834, total=   0.7s\n",
      "[CV]  learning_rate=0.1, max_depth=10, n_estimators=100 ..............\n",
      "[CV]   learning_rate=0.1, max_depth=10, n_estimators=100, score=0.834, total=   0.7s\n",
      "[CV]  learning_rate=0.1, max_depth=10, n_estimators=100 ..............\n",
      "[CV]   learning_rate=0.1, max_depth=10, n_estimators=100, score=0.835, total=   0.7s\n",
      "[CV]  learning_rate=0.1, max_depth=10, n_estimators=100 ..............\n",
      "[CV]   learning_rate=0.1, max_depth=10, n_estimators=100, score=0.836, total=   0.7s\n",
      "[CV]  learning_rate=0.1, max_depth=10, n_estimators=100 ..............\n",
      "[CV]   learning_rate=0.1, max_depth=10, n_estimators=100, score=0.836, total=   0.7s\n",
      "[CV]  learning_rate=0.1, max_depth=10, n_estimators=200 ..............\n",
      "[CV]   learning_rate=0.1, max_depth=10, n_estimators=200, score=0.832, total=   1.3s\n",
      "[CV]  learning_rate=0.1, max_depth=10, n_estimators=200 ..............\n",
      "[CV]   learning_rate=0.1, max_depth=10, n_estimators=200, score=0.823, total=   1.3s\n",
      "[CV]  learning_rate=0.1, max_depth=10, n_estimators=200 ..............\n",
      "[CV]   learning_rate=0.1, max_depth=10, n_estimators=200, score=0.827, total=   1.3s\n",
      "[CV]  learning_rate=0.1, max_depth=10, n_estimators=200 ..............\n",
      "[CV]   learning_rate=0.1, max_depth=10, n_estimators=200, score=0.831, total=   1.3s\n",
      "[CV]  learning_rate=0.1, max_depth=10, n_estimators=200 ..............\n",
      "[CV]   learning_rate=0.1, max_depth=10, n_estimators=200, score=0.828, total=   1.3s\n",
      "[CV]  learning_rate=0.1, max_depth=20, n_estimators=10 ...............\n",
      "[CV]   learning_rate=0.1, max_depth=20, n_estimators=10, score=0.831, total=   0.1s\n",
      "[CV]  learning_rate=0.1, max_depth=20, n_estimators=10 ...............\n",
      "[CV]   learning_rate=0.1, max_depth=20, n_estimators=10, score=0.825, total=   0.1s\n",
      "[CV]  learning_rate=0.1, max_depth=20, n_estimators=10 ...............\n",
      "[CV]   learning_rate=0.1, max_depth=20, n_estimators=10, score=0.830, total=   0.1s\n",
      "[CV]  learning_rate=0.1, max_depth=20, n_estimators=10 ...............\n",
      "[CV]   learning_rate=0.1, max_depth=20, n_estimators=10, score=0.832, total=   0.1s\n",
      "[CV]  learning_rate=0.1, max_depth=20, n_estimators=10 ...............\n",
      "[CV]   learning_rate=0.1, max_depth=20, n_estimators=10, score=0.830, total=   0.1s\n",
      "[CV]  learning_rate=0.1, max_depth=20, n_estimators=50 ...............\n",
      "[CV]   learning_rate=0.1, max_depth=20, n_estimators=50, score=0.825, total=   0.6s\n",
      "[CV]  learning_rate=0.1, max_depth=20, n_estimators=50 ...............\n",
      "[CV]   learning_rate=0.1, max_depth=20, n_estimators=50, score=0.819, total=   0.6s\n",
      "[CV]  learning_rate=0.1, max_depth=20, n_estimators=50 ...............\n",
      "[CV]   learning_rate=0.1, max_depth=20, n_estimators=50, score=0.825, total=   0.7s\n",
      "[CV]  learning_rate=0.1, max_depth=20, n_estimators=50 ...............\n",
      "[CV]   learning_rate=0.1, max_depth=20, n_estimators=50, score=0.828, total=   0.7s\n",
      "[CV]  learning_rate=0.1, max_depth=20, n_estimators=50 ...............\n",
      "[CV]   learning_rate=0.1, max_depth=20, n_estimators=50, score=0.828, total=   0.7s\n",
      "[CV]  learning_rate=0.1, max_depth=20, n_estimators=100 ..............\n",
      "[CV]   learning_rate=0.1, max_depth=20, n_estimators=100, score=0.821, total=   1.2s\n",
      "[CV]  learning_rate=0.1, max_depth=20, n_estimators=100 ..............\n",
      "[CV]   learning_rate=0.1, max_depth=20, n_estimators=100, score=0.810, total=   1.2s\n",
      "[CV]  learning_rate=0.1, max_depth=20, n_estimators=100 ..............\n"
     ]
    },
    {
     "name": "stdout",
     "output_type": "stream",
     "text": [
      "[CV]   learning_rate=0.1, max_depth=20, n_estimators=100, score=0.818, total=   1.2s\n",
      "[CV]  learning_rate=0.1, max_depth=20, n_estimators=100 ..............\n",
      "[CV]   learning_rate=0.1, max_depth=20, n_estimators=100, score=0.826, total=   1.2s\n",
      "[CV]  learning_rate=0.1, max_depth=20, n_estimators=100 ..............\n",
      "[CV]   learning_rate=0.1, max_depth=20, n_estimators=100, score=0.825, total=   1.2s\n",
      "[CV]  learning_rate=0.1, max_depth=20, n_estimators=200 ..............\n",
      "[CV]   learning_rate=0.1, max_depth=20, n_estimators=200, score=0.819, total=   2.3s\n",
      "[CV]  learning_rate=0.1, max_depth=20, n_estimators=200 ..............\n",
      "[CV]   learning_rate=0.1, max_depth=20, n_estimators=200, score=0.802, total=   2.4s\n",
      "[CV]  learning_rate=0.1, max_depth=20, n_estimators=200 ..............\n",
      "[CV]   learning_rate=0.1, max_depth=20, n_estimators=200, score=0.811, total=   2.4s\n",
      "[CV]  learning_rate=0.1, max_depth=20, n_estimators=200 ..............\n",
      "[CV]   learning_rate=0.1, max_depth=20, n_estimators=200, score=0.819, total=   2.4s\n",
      "[CV]  learning_rate=0.1, max_depth=20, n_estimators=200 ..............\n",
      "[CV]   learning_rate=0.1, max_depth=20, n_estimators=200, score=0.814, total=   2.4s\n",
      "[CV]  learning_rate=0.1, max_depth=50, n_estimators=10 ...............\n",
      "[CV]   learning_rate=0.1, max_depth=50, n_estimators=10, score=0.831, total=   0.1s\n",
      "[CV]  learning_rate=0.1, max_depth=50, n_estimators=10 ...............\n",
      "[CV]   learning_rate=0.1, max_depth=50, n_estimators=10, score=0.823, total=   0.1s\n",
      "[CV]  learning_rate=0.1, max_depth=50, n_estimators=10 ...............\n",
      "[CV]   learning_rate=0.1, max_depth=50, n_estimators=10, score=0.830, total=   0.1s\n",
      "[CV]  learning_rate=0.1, max_depth=50, n_estimators=10 ...............\n",
      "[CV]   learning_rate=0.1, max_depth=50, n_estimators=10, score=0.832, total=   0.1s\n",
      "[CV]  learning_rate=0.1, max_depth=50, n_estimators=10 ...............\n",
      "[CV]   learning_rate=0.1, max_depth=50, n_estimators=10, score=0.830, total=   0.1s\n",
      "[CV]  learning_rate=0.1, max_depth=50, n_estimators=50 ...............\n",
      "[CV]   learning_rate=0.1, max_depth=50, n_estimators=50, score=0.812, total=   1.0s\n",
      "[CV]  learning_rate=0.1, max_depth=50, n_estimators=50 ...............\n",
      "[CV]   learning_rate=0.1, max_depth=50, n_estimators=50, score=0.809, total=   1.0s\n",
      "[CV]  learning_rate=0.1, max_depth=50, n_estimators=50 ...............\n",
      "[CV]   learning_rate=0.1, max_depth=50, n_estimators=50, score=0.811, total=   1.1s\n",
      "[CV]  learning_rate=0.1, max_depth=50, n_estimators=50 ...............\n",
      "[CV]   learning_rate=0.1, max_depth=50, n_estimators=50, score=0.822, total=   1.1s\n",
      "[CV]  learning_rate=0.1, max_depth=50, n_estimators=50 ...............\n",
      "[CV]   learning_rate=0.1, max_depth=50, n_estimators=50, score=0.823, total=   1.4s\n",
      "[CV]  learning_rate=0.1, max_depth=50, n_estimators=100 ..............\n",
      "[CV]   learning_rate=0.1, max_depth=50, n_estimators=100, score=0.807, total=   2.7s\n",
      "[CV]  learning_rate=0.1, max_depth=50, n_estimators=100 ..............\n",
      "[CV]   learning_rate=0.1, max_depth=50, n_estimators=100, score=0.799, total=   4.2s\n",
      "[CV]  learning_rate=0.1, max_depth=50, n_estimators=100 ..............\n",
      "[CV]   learning_rate=0.1, max_depth=50, n_estimators=100, score=0.804, total=   3.3s\n",
      "[CV]  learning_rate=0.1, max_depth=50, n_estimators=100 ..............\n",
      "[CV]   learning_rate=0.1, max_depth=50, n_estimators=100, score=0.807, total=   3.0s\n",
      "[CV]  learning_rate=0.1, max_depth=50, n_estimators=100 ..............\n",
      "[CV]   learning_rate=0.1, max_depth=50, n_estimators=100, score=0.814, total=   3.0s\n",
      "[CV]  learning_rate=0.1, max_depth=50, n_estimators=200 ..............\n",
      "[CV]   learning_rate=0.1, max_depth=50, n_estimators=200, score=0.799, total=   6.2s\n",
      "[CV]  learning_rate=0.1, max_depth=50, n_estimators=200 ..............\n",
      "[CV]   learning_rate=0.1, max_depth=50, n_estimators=200, score=0.787, total=   6.1s\n",
      "[CV]  learning_rate=0.1, max_depth=50, n_estimators=200 ..............\n",
      "[CV]   learning_rate=0.1, max_depth=50, n_estimators=200, score=0.801, total=   6.5s\n",
      "[CV]  learning_rate=0.1, max_depth=50, n_estimators=200 ..............\n",
      "[CV]   learning_rate=0.1, max_depth=50, n_estimators=200, score=0.805, total=   6.1s\n",
      "[CV]  learning_rate=0.1, max_depth=50, n_estimators=200 ..............\n",
      "[CV]   learning_rate=0.1, max_depth=50, n_estimators=200, score=0.801, total=   6.4s\n",
      "[CV]  learning_rate=0.01, max_depth=3, n_estimators=10 ...............\n",
      "[CV]   learning_rate=0.01, max_depth=3, n_estimators=10, score=0.839, total=   0.0s\n",
      "[CV]  learning_rate=0.01, max_depth=3, n_estimators=10 ...............\n",
      "[CV]   learning_rate=0.01, max_depth=3, n_estimators=10, score=0.840, total=   0.0s\n",
      "[CV]  learning_rate=0.01, max_depth=3, n_estimators=10 ...............\n",
      "[CV]   learning_rate=0.01, max_depth=3, n_estimators=10, score=0.840, total=   0.0s\n",
      "[CV]  learning_rate=0.01, max_depth=3, n_estimators=10 ...............\n",
      "[CV]   learning_rate=0.01, max_depth=3, n_estimators=10, score=0.840, total=   0.0s\n",
      "[CV]  learning_rate=0.01, max_depth=3, n_estimators=10 ...............\n",
      "[CV]   learning_rate=0.01, max_depth=3, n_estimators=10, score=0.836, total=   0.0s\n",
      "[CV]  learning_rate=0.01, max_depth=3, n_estimators=50 ...............\n",
      "[CV]   learning_rate=0.01, max_depth=3, n_estimators=50, score=0.839, total=   0.2s\n",
      "[CV]  learning_rate=0.01, max_depth=3, n_estimators=50 ...............\n",
      "[CV]   learning_rate=0.01, max_depth=3, n_estimators=50, score=0.840, total=   0.2s\n",
      "[CV]  learning_rate=0.01, max_depth=3, n_estimators=50 ...............\n",
      "[CV]   learning_rate=0.01, max_depth=3, n_estimators=50, score=0.840, total=   0.2s\n",
      "[CV]  learning_rate=0.01, max_depth=3, n_estimators=50 ...............\n",
      "[CV]   learning_rate=0.01, max_depth=3, n_estimators=50, score=0.840, total=   0.2s\n",
      "[CV]  learning_rate=0.01, max_depth=3, n_estimators=50 ...............\n",
      "[CV]   learning_rate=0.01, max_depth=3, n_estimators=50, score=0.839, total=   0.2s\n",
      "[CV]  learning_rate=0.01, max_depth=3, n_estimators=100 ..............\n",
      "[CV]   learning_rate=0.01, max_depth=3, n_estimators=100, score=0.838, total=   0.3s\n",
      "[CV]  learning_rate=0.01, max_depth=3, n_estimators=100 ..............\n",
      "[CV]   learning_rate=0.01, max_depth=3, n_estimators=100, score=0.840, total=   0.4s\n",
      "[CV]  learning_rate=0.01, max_depth=3, n_estimators=100 ..............\n",
      "[CV]   learning_rate=0.01, max_depth=3, n_estimators=100, score=0.840, total=   0.3s\n",
      "[CV]  learning_rate=0.01, max_depth=3, n_estimators=100 ..............\n",
      "[CV]   learning_rate=0.01, max_depth=3, n_estimators=100, score=0.839, total=   0.4s\n",
      "[CV]  learning_rate=0.01, max_depth=3, n_estimators=100 ..............\n",
      "[CV]   learning_rate=0.01, max_depth=3, n_estimators=100, score=0.837, total=   0.4s\n",
      "[CV]  learning_rate=0.01, max_depth=3, n_estimators=200 ..............\n",
      "[CV]   learning_rate=0.01, max_depth=3, n_estimators=200, score=0.838, total=   0.7s\n",
      "[CV]  learning_rate=0.01, max_depth=3, n_estimators=200 ..............\n",
      "[CV]   learning_rate=0.01, max_depth=3, n_estimators=200, score=0.840, total=   0.7s\n",
      "[CV]  learning_rate=0.01, max_depth=3, n_estimators=200 ..............\n",
      "[CV]   learning_rate=0.01, max_depth=3, n_estimators=200, score=0.839, total=   0.6s\n",
      "[CV]  learning_rate=0.01, max_depth=3, n_estimators=200 ..............\n",
      "[CV]   learning_rate=0.01, max_depth=3, n_estimators=200, score=0.837, total=   0.6s\n",
      "[CV]  learning_rate=0.01, max_depth=3, n_estimators=200 ..............\n",
      "[CV]   learning_rate=0.01, max_depth=3, n_estimators=200, score=0.837, total=   0.6s\n",
      "[CV]  learning_rate=0.01, max_depth=5, n_estimators=10 ...............\n",
      "[CV]   learning_rate=0.01, max_depth=5, n_estimators=10, score=0.839, total=   0.1s\n",
      "[CV]  learning_rate=0.01, max_depth=5, n_estimators=10 ...............\n",
      "[CV]   learning_rate=0.01, max_depth=5, n_estimators=10, score=0.838, total=   0.0s\n",
      "[CV]  learning_rate=0.01, max_depth=5, n_estimators=10 ...............\n",
      "[CV]   learning_rate=0.01, max_depth=5, n_estimators=10, score=0.840, total=   0.1s\n",
      "[CV]  learning_rate=0.01, max_depth=5, n_estimators=10 ...............\n",
      "[CV]   learning_rate=0.01, max_depth=5, n_estimators=10, score=0.839, total=   0.0s\n",
      "[CV]  learning_rate=0.01, max_depth=5, n_estimators=10 ...............\n",
      "[CV]   learning_rate=0.01, max_depth=5, n_estimators=10, score=0.837, total=   0.1s\n",
      "[CV]  learning_rate=0.01, max_depth=5, n_estimators=50 ...............\n"
     ]
    },
    {
     "name": "stdout",
     "output_type": "stream",
     "text": [
      "[CV]   learning_rate=0.01, max_depth=5, n_estimators=50, score=0.838, total=   0.2s\n",
      "[CV]  learning_rate=0.01, max_depth=5, n_estimators=50 ...............\n",
      "[CV]   learning_rate=0.01, max_depth=5, n_estimators=50, score=0.840, total=   0.2s\n",
      "[CV]  learning_rate=0.01, max_depth=5, n_estimators=50 ...............\n",
      "[CV]   learning_rate=0.01, max_depth=5, n_estimators=50, score=0.837, total=   0.3s\n",
      "[CV]  learning_rate=0.01, max_depth=5, n_estimators=50 ...............\n",
      "[CV]   learning_rate=0.01, max_depth=5, n_estimators=50, score=0.840, total=   0.2s\n",
      "[CV]  learning_rate=0.01, max_depth=5, n_estimators=50 ...............\n",
      "[CV]   learning_rate=0.01, max_depth=5, n_estimators=50, score=0.841, total=   0.3s\n",
      "[CV]  learning_rate=0.01, max_depth=5, n_estimators=100 ..............\n",
      "[CV]   learning_rate=0.01, max_depth=5, n_estimators=100, score=0.836, total=   0.4s\n",
      "[CV]  learning_rate=0.01, max_depth=5, n_estimators=100 ..............\n",
      "[CV]   learning_rate=0.01, max_depth=5, n_estimators=100, score=0.840, total=   0.4s\n",
      "[CV]  learning_rate=0.01, max_depth=5, n_estimators=100 ..............\n",
      "[CV]   learning_rate=0.01, max_depth=5, n_estimators=100, score=0.838, total=   0.4s\n",
      "[CV]  learning_rate=0.01, max_depth=5, n_estimators=100 ..............\n",
      "[CV]   learning_rate=0.01, max_depth=5, n_estimators=100, score=0.837, total=   0.4s\n",
      "[CV]  learning_rate=0.01, max_depth=5, n_estimators=100 ..............\n",
      "[CV]   learning_rate=0.01, max_depth=5, n_estimators=100, score=0.839, total=   0.5s\n",
      "[CV]  learning_rate=0.01, max_depth=5, n_estimators=200 ..............\n",
      "[CV]   learning_rate=0.01, max_depth=5, n_estimators=200, score=0.836, total=   1.0s\n",
      "[CV]  learning_rate=0.01, max_depth=5, n_estimators=200 ..............\n",
      "[CV]   learning_rate=0.01, max_depth=5, n_estimators=200, score=0.838, total=   0.9s\n",
      "[CV]  learning_rate=0.01, max_depth=5, n_estimators=200 ..............\n",
      "[CV]   learning_rate=0.01, max_depth=5, n_estimators=200, score=0.838, total=   1.0s\n",
      "[CV]  learning_rate=0.01, max_depth=5, n_estimators=200 ..............\n",
      "[CV]   learning_rate=0.01, max_depth=5, n_estimators=200, score=0.837, total=   0.9s\n",
      "[CV]  learning_rate=0.01, max_depth=5, n_estimators=200 ..............\n",
      "[CV]   learning_rate=0.01, max_depth=5, n_estimators=200, score=0.835, total=   0.9s\n",
      "[CV]  learning_rate=0.01, max_depth=10, n_estimators=10 ..............\n",
      "[CV]   learning_rate=0.01, max_depth=10, n_estimators=10, score=0.838, total=   0.1s\n",
      "[CV]  learning_rate=0.01, max_depth=10, n_estimators=10 ..............\n",
      "[CV]   learning_rate=0.01, max_depth=10, n_estimators=10, score=0.834, total=   0.1s\n",
      "[CV]  learning_rate=0.01, max_depth=10, n_estimators=10 ..............\n",
      "[CV]   learning_rate=0.01, max_depth=10, n_estimators=10, score=0.839, total=   0.1s\n",
      "[CV]  learning_rate=0.01, max_depth=10, n_estimators=10 ..............\n",
      "[CV]   learning_rate=0.01, max_depth=10, n_estimators=10, score=0.839, total=   0.1s\n",
      "[CV]  learning_rate=0.01, max_depth=10, n_estimators=10 ..............\n",
      "[CV]   learning_rate=0.01, max_depth=10, n_estimators=10, score=0.833, total=   0.1s\n",
      "[CV]  learning_rate=0.01, max_depth=10, n_estimators=50 ..............\n",
      "[CV]   learning_rate=0.01, max_depth=10, n_estimators=50, score=0.838, total=   0.4s\n",
      "[CV]  learning_rate=0.01, max_depth=10, n_estimators=50 ..............\n",
      "[CV]   learning_rate=0.01, max_depth=10, n_estimators=50, score=0.836, total=   0.4s\n",
      "[CV]  learning_rate=0.01, max_depth=10, n_estimators=50 ..............\n",
      "[CV]   learning_rate=0.01, max_depth=10, n_estimators=50, score=0.840, total=   0.4s\n",
      "[CV]  learning_rate=0.01, max_depth=10, n_estimators=50 ..............\n",
      "[CV]   learning_rate=0.01, max_depth=10, n_estimators=50, score=0.839, total=   0.4s\n",
      "[CV]  learning_rate=0.01, max_depth=10, n_estimators=50 ..............\n",
      "[CV]   learning_rate=0.01, max_depth=10, n_estimators=50, score=0.836, total=   0.4s\n",
      "[CV]  learning_rate=0.01, max_depth=10, n_estimators=100 .............\n",
      "[CV]   learning_rate=0.01, max_depth=10, n_estimators=100, score=0.834, total=   0.8s\n",
      "[CV]  learning_rate=0.01, max_depth=10, n_estimators=100 .............\n",
      "[CV]   learning_rate=0.01, max_depth=10, n_estimators=100, score=0.834, total=   0.9s\n",
      "[CV]  learning_rate=0.01, max_depth=10, n_estimators=100 .............\n",
      "[CV]   learning_rate=0.01, max_depth=10, n_estimators=100, score=0.835, total=   0.8s\n",
      "[CV]  learning_rate=0.01, max_depth=10, n_estimators=100 .............\n",
      "[CV]   learning_rate=0.01, max_depth=10, n_estimators=100, score=0.836, total=   0.8s\n",
      "[CV]  learning_rate=0.01, max_depth=10, n_estimators=100 .............\n",
      "[CV]   learning_rate=0.01, max_depth=10, n_estimators=100, score=0.836, total=   1.5s\n",
      "[CV]  learning_rate=0.01, max_depth=10, n_estimators=200 .............\n",
      "[CV]   learning_rate=0.01, max_depth=10, n_estimators=200, score=0.832, total=   2.5s\n",
      "[CV]  learning_rate=0.01, max_depth=10, n_estimators=200 .............\n",
      "[CV]   learning_rate=0.01, max_depth=10, n_estimators=200, score=0.823, total=   2.1s\n",
      "[CV]  learning_rate=0.01, max_depth=10, n_estimators=200 .............\n",
      "[CV]   learning_rate=0.01, max_depth=10, n_estimators=200, score=0.827, total=   1.6s\n",
      "[CV]  learning_rate=0.01, max_depth=10, n_estimators=200 .............\n",
      "[CV]   learning_rate=0.01, max_depth=10, n_estimators=200, score=0.831, total=   2.0s\n",
      "[CV]  learning_rate=0.01, max_depth=10, n_estimators=200 .............\n",
      "[CV]   learning_rate=0.01, max_depth=10, n_estimators=200, score=0.828, total=   3.4s\n",
      "[CV]  learning_rate=0.01, max_depth=20, n_estimators=10 ..............\n",
      "[CV]   learning_rate=0.01, max_depth=20, n_estimators=10, score=0.831, total=   0.4s\n",
      "[CV]  learning_rate=0.01, max_depth=20, n_estimators=10 ..............\n",
      "[CV]   learning_rate=0.01, max_depth=20, n_estimators=10, score=0.825, total=   0.2s\n",
      "[CV]  learning_rate=0.01, max_depth=20, n_estimators=10 ..............\n",
      "[CV]   learning_rate=0.01, max_depth=20, n_estimators=10, score=0.830, total=   0.2s\n",
      "[CV]  learning_rate=0.01, max_depth=20, n_estimators=10 ..............\n",
      "[CV]   learning_rate=0.01, max_depth=20, n_estimators=10, score=0.832, total=   0.2s\n",
      "[CV]  learning_rate=0.01, max_depth=20, n_estimators=10 ..............\n",
      "[CV]   learning_rate=0.01, max_depth=20, n_estimators=10, score=0.830, total=   0.2s\n",
      "[CV]  learning_rate=0.01, max_depth=20, n_estimators=50 ..............\n",
      "[CV]   learning_rate=0.01, max_depth=20, n_estimators=50, score=0.825, total=   1.1s\n",
      "[CV]  learning_rate=0.01, max_depth=20, n_estimators=50 ..............\n",
      "[CV]   learning_rate=0.01, max_depth=20, n_estimators=50, score=0.819, total=   1.0s\n",
      "[CV]  learning_rate=0.01, max_depth=20, n_estimators=50 ..............\n",
      "[CV]   learning_rate=0.01, max_depth=20, n_estimators=50, score=0.825, total=   0.8s\n",
      "[CV]  learning_rate=0.01, max_depth=20, n_estimators=50 ..............\n",
      "[CV]   learning_rate=0.01, max_depth=20, n_estimators=50, score=0.828, total=   0.8s\n",
      "[CV]  learning_rate=0.01, max_depth=20, n_estimators=50 ..............\n",
      "[CV]   learning_rate=0.01, max_depth=20, n_estimators=50, score=0.828, total=   0.8s\n",
      "[CV]  learning_rate=0.01, max_depth=20, n_estimators=100 .............\n",
      "[CV]   learning_rate=0.01, max_depth=20, n_estimators=100, score=0.821, total=   1.3s\n",
      "[CV]  learning_rate=0.01, max_depth=20, n_estimators=100 .............\n",
      "[CV]   learning_rate=0.01, max_depth=20, n_estimators=100, score=0.810, total=   1.4s\n",
      "[CV]  learning_rate=0.01, max_depth=20, n_estimators=100 .............\n",
      "[CV]   learning_rate=0.01, max_depth=20, n_estimators=100, score=0.818, total=   1.6s\n",
      "[CV]  learning_rate=0.01, max_depth=20, n_estimators=100 .............\n",
      "[CV]   learning_rate=0.01, max_depth=20, n_estimators=100, score=0.826, total=   1.3s\n",
      "[CV]  learning_rate=0.01, max_depth=20, n_estimators=100 .............\n",
      "[CV]   learning_rate=0.01, max_depth=20, n_estimators=100, score=0.825, total=   1.4s\n",
      "[CV]  learning_rate=0.01, max_depth=20, n_estimators=200 .............\n",
      "[CV]   learning_rate=0.01, max_depth=20, n_estimators=200, score=0.819, total=   2.8s\n",
      "[CV]  learning_rate=0.01, max_depth=20, n_estimators=200 .............\n",
      "[CV]   learning_rate=0.01, max_depth=20, n_estimators=200, score=0.802, total=   2.6s\n",
      "[CV]  learning_rate=0.01, max_depth=20, n_estimators=200 .............\n",
      "[CV]   learning_rate=0.01, max_depth=20, n_estimators=200, score=0.811, total=   2.7s\n",
      "[CV]  learning_rate=0.01, max_depth=20, n_estimators=200 .............\n"
     ]
    },
    {
     "name": "stdout",
     "output_type": "stream",
     "text": [
      "[CV]   learning_rate=0.01, max_depth=20, n_estimators=200, score=0.819, total=   2.6s\n",
      "[CV]  learning_rate=0.01, max_depth=20, n_estimators=200 .............\n",
      "[CV]   learning_rate=0.01, max_depth=20, n_estimators=200, score=0.814, total=   2.8s\n",
      "[CV]  learning_rate=0.01, max_depth=50, n_estimators=10 ..............\n",
      "[CV]   learning_rate=0.01, max_depth=50, n_estimators=10, score=0.831, total=   0.1s\n",
      "[CV]  learning_rate=0.01, max_depth=50, n_estimators=10 ..............\n",
      "[CV]   learning_rate=0.01, max_depth=50, n_estimators=10, score=0.823, total=   0.1s\n",
      "[CV]  learning_rate=0.01, max_depth=50, n_estimators=10 ..............\n",
      "[CV]   learning_rate=0.01, max_depth=50, n_estimators=10, score=0.830, total=   0.1s\n",
      "[CV]  learning_rate=0.01, max_depth=50, n_estimators=10 ..............\n",
      "[CV]   learning_rate=0.01, max_depth=50, n_estimators=10, score=0.832, total=   0.1s\n",
      "[CV]  learning_rate=0.01, max_depth=50, n_estimators=10 ..............\n",
      "[CV]   learning_rate=0.01, max_depth=50, n_estimators=10, score=0.830, total=   0.1s\n",
      "[CV]  learning_rate=0.01, max_depth=50, n_estimators=50 ..............\n",
      "[CV]   learning_rate=0.01, max_depth=50, n_estimators=50, score=0.812, total=   1.1s\n",
      "[CV]  learning_rate=0.01, max_depth=50, n_estimators=50 ..............\n",
      "[CV]   learning_rate=0.01, max_depth=50, n_estimators=50, score=0.809, total=   1.2s\n",
      "[CV]  learning_rate=0.01, max_depth=50, n_estimators=50 ..............\n",
      "[CV]   learning_rate=0.01, max_depth=50, n_estimators=50, score=0.811, total=   1.3s\n",
      "[CV]  learning_rate=0.01, max_depth=50, n_estimators=50 ..............\n",
      "[CV]   learning_rate=0.01, max_depth=50, n_estimators=50, score=0.822, total=   1.2s\n",
      "[CV]  learning_rate=0.01, max_depth=50, n_estimators=50 ..............\n",
      "[CV]   learning_rate=0.01, max_depth=50, n_estimators=50, score=0.823, total=   1.3s\n",
      "[CV]  learning_rate=0.01, max_depth=50, n_estimators=100 .............\n",
      "[CV]   learning_rate=0.01, max_depth=50, n_estimators=100, score=0.807, total=   2.8s\n",
      "[CV]  learning_rate=0.01, max_depth=50, n_estimators=100 .............\n",
      "[CV]   learning_rate=0.01, max_depth=50, n_estimators=100, score=0.799, total=   2.8s\n",
      "[CV]  learning_rate=0.01, max_depth=50, n_estimators=100 .............\n",
      "[CV]   learning_rate=0.01, max_depth=50, n_estimators=100, score=0.804, total=   2.8s\n",
      "[CV]  learning_rate=0.01, max_depth=50, n_estimators=100 .............\n",
      "[CV]   learning_rate=0.01, max_depth=50, n_estimators=100, score=0.807, total=   2.6s\n",
      "[CV]  learning_rate=0.01, max_depth=50, n_estimators=100 .............\n",
      "[CV]   learning_rate=0.01, max_depth=50, n_estimators=100, score=0.814, total=   2.8s\n",
      "[CV]  learning_rate=0.01, max_depth=50, n_estimators=200 .............\n",
      "[CV]   learning_rate=0.01, max_depth=50, n_estimators=200, score=0.799, total=   5.7s\n",
      "[CV]  learning_rate=0.01, max_depth=50, n_estimators=200 .............\n",
      "[CV]   learning_rate=0.01, max_depth=50, n_estimators=200, score=0.787, total=   5.6s\n",
      "[CV]  learning_rate=0.01, max_depth=50, n_estimators=200 .............\n",
      "[CV]   learning_rate=0.01, max_depth=50, n_estimators=200, score=0.801, total=   5.8s\n",
      "[CV]  learning_rate=0.01, max_depth=50, n_estimators=200 .............\n",
      "[CV]   learning_rate=0.01, max_depth=50, n_estimators=200, score=0.805, total=   5.8s\n",
      "[CV]  learning_rate=0.01, max_depth=50, n_estimators=200 .............\n",
      "[CV]   learning_rate=0.01, max_depth=50, n_estimators=200, score=0.801, total=   5.5s\n",
      "[CV]  learning_rate=0.001, max_depth=3, n_estimators=10 ..............\n",
      "[CV]   learning_rate=0.001, max_depth=3, n_estimators=10, score=0.839, total=   0.0s\n",
      "[CV]  learning_rate=0.001, max_depth=3, n_estimators=10 ..............\n",
      "[CV]   learning_rate=0.001, max_depth=3, n_estimators=10, score=0.840, total=   0.0s\n",
      "[CV]  learning_rate=0.001, max_depth=3, n_estimators=10 ..............\n",
      "[CV]   learning_rate=0.001, max_depth=3, n_estimators=10, score=0.840, total=   0.0s\n",
      "[CV]  learning_rate=0.001, max_depth=3, n_estimators=10 ..............\n",
      "[CV]   learning_rate=0.001, max_depth=3, n_estimators=10, score=0.840, total=   0.0s\n",
      "[CV]  learning_rate=0.001, max_depth=3, n_estimators=10 ..............\n",
      "[CV]   learning_rate=0.001, max_depth=3, n_estimators=10, score=0.836, total=   0.0s\n",
      "[CV]  learning_rate=0.001, max_depth=3, n_estimators=50 ..............\n",
      "[CV]   learning_rate=0.001, max_depth=3, n_estimators=50, score=0.839, total=   0.1s\n",
      "[CV]  learning_rate=0.001, max_depth=3, n_estimators=50 ..............\n",
      "[CV]   learning_rate=0.001, max_depth=3, n_estimators=50, score=0.840, total=   0.1s\n",
      "[CV]  learning_rate=0.001, max_depth=3, n_estimators=50 ..............\n",
      "[CV]   learning_rate=0.001, max_depth=3, n_estimators=50, score=0.840, total=   0.1s\n",
      "[CV]  learning_rate=0.001, max_depth=3, n_estimators=50 ..............\n",
      "[CV]   learning_rate=0.001, max_depth=3, n_estimators=50, score=0.840, total=   0.1s\n",
      "[CV]  learning_rate=0.001, max_depth=3, n_estimators=50 ..............\n",
      "[CV]   learning_rate=0.001, max_depth=3, n_estimators=50, score=0.839, total=   0.1s\n",
      "[CV]  learning_rate=0.001, max_depth=3, n_estimators=100 .............\n",
      "[CV]   learning_rate=0.001, max_depth=3, n_estimators=100, score=0.838, total=   0.3s\n",
      "[CV]  learning_rate=0.001, max_depth=3, n_estimators=100 .............\n",
      "[CV]   learning_rate=0.001, max_depth=3, n_estimators=100, score=0.840, total=   0.3s\n",
      "[CV]  learning_rate=0.001, max_depth=3, n_estimators=100 .............\n",
      "[CV]   learning_rate=0.001, max_depth=3, n_estimators=100, score=0.840, total=   0.3s\n",
      "[CV]  learning_rate=0.001, max_depth=3, n_estimators=100 .............\n",
      "[CV]   learning_rate=0.001, max_depth=3, n_estimators=100, score=0.839, total=   0.3s\n",
      "[CV]  learning_rate=0.001, max_depth=3, n_estimators=100 .............\n",
      "[CV]   learning_rate=0.001, max_depth=3, n_estimators=100, score=0.837, total=   0.3s\n",
      "[CV]  learning_rate=0.001, max_depth=3, n_estimators=200 .............\n",
      "[CV]   learning_rate=0.001, max_depth=3, n_estimators=200, score=0.838, total=   0.8s\n",
      "[CV]  learning_rate=0.001, max_depth=3, n_estimators=200 .............\n",
      "[CV]   learning_rate=0.001, max_depth=3, n_estimators=200, score=0.840, total=   0.6s\n",
      "[CV]  learning_rate=0.001, max_depth=3, n_estimators=200 .............\n",
      "[CV]   learning_rate=0.001, max_depth=3, n_estimators=200, score=0.839, total=   0.5s\n",
      "[CV]  learning_rate=0.001, max_depth=3, n_estimators=200 .............\n",
      "[CV]   learning_rate=0.001, max_depth=3, n_estimators=200, score=0.837, total=   0.5s\n",
      "[CV]  learning_rate=0.001, max_depth=3, n_estimators=200 .............\n",
      "[CV]   learning_rate=0.001, max_depth=3, n_estimators=200, score=0.837, total=   0.6s\n",
      "[CV]  learning_rate=0.001, max_depth=5, n_estimators=10 ..............\n",
      "[CV]   learning_rate=0.001, max_depth=5, n_estimators=10, score=0.839, total=   0.1s\n",
      "[CV]  learning_rate=0.001, max_depth=5, n_estimators=10 ..............\n",
      "[CV]   learning_rate=0.001, max_depth=5, n_estimators=10, score=0.838, total=   0.1s\n",
      "[CV]  learning_rate=0.001, max_depth=5, n_estimators=10 ..............\n",
      "[CV]   learning_rate=0.001, max_depth=5, n_estimators=10, score=0.840, total=   0.1s\n",
      "[CV]  learning_rate=0.001, max_depth=5, n_estimators=10 ..............\n",
      "[CV]   learning_rate=0.001, max_depth=5, n_estimators=10, score=0.839, total=   0.1s\n",
      "[CV]  learning_rate=0.001, max_depth=5, n_estimators=10 ..............\n",
      "[CV]   learning_rate=0.001, max_depth=5, n_estimators=10, score=0.837, total=   0.1s\n",
      "[CV]  learning_rate=0.001, max_depth=5, n_estimators=50 ..............\n",
      "[CV]   learning_rate=0.001, max_depth=5, n_estimators=50, score=0.838, total=   0.3s\n",
      "[CV]  learning_rate=0.001, max_depth=5, n_estimators=50 ..............\n",
      "[CV]   learning_rate=0.001, max_depth=5, n_estimators=50, score=0.840, total=   0.2s\n",
      "[CV]  learning_rate=0.001, max_depth=5, n_estimators=50 ..............\n",
      "[CV]   learning_rate=0.001, max_depth=5, n_estimators=50, score=0.837, total=   0.2s\n",
      "[CV]  learning_rate=0.001, max_depth=5, n_estimators=50 ..............\n",
      "[CV]   learning_rate=0.001, max_depth=5, n_estimators=50, score=0.840, total=   0.3s\n",
      "[CV]  learning_rate=0.001, max_depth=5, n_estimators=50 ..............\n",
      "[CV]   learning_rate=0.001, max_depth=5, n_estimators=50, score=0.841, total=   0.2s\n",
      "[CV]  learning_rate=0.001, max_depth=5, n_estimators=100 .............\n",
      "[CV]   learning_rate=0.001, max_depth=5, n_estimators=100, score=0.836, total=   0.4s\n",
      "[CV]  learning_rate=0.001, max_depth=5, n_estimators=100 .............\n"
     ]
    },
    {
     "name": "stdout",
     "output_type": "stream",
     "text": [
      "[CV]   learning_rate=0.001, max_depth=5, n_estimators=100, score=0.840, total=   0.5s\n",
      "[CV]  learning_rate=0.001, max_depth=5, n_estimators=100 .............\n",
      "[CV]   learning_rate=0.001, max_depth=5, n_estimators=100, score=0.838, total=   0.5s\n",
      "[CV]  learning_rate=0.001, max_depth=5, n_estimators=100 .............\n",
      "[CV]   learning_rate=0.001, max_depth=5, n_estimators=100, score=0.837, total=   0.5s\n",
      "[CV]  learning_rate=0.001, max_depth=5, n_estimators=100 .............\n",
      "[CV]   learning_rate=0.001, max_depth=5, n_estimators=100, score=0.839, total=   0.6s\n",
      "[CV]  learning_rate=0.001, max_depth=5, n_estimators=200 .............\n",
      "[CV]   learning_rate=0.001, max_depth=5, n_estimators=200, score=0.836, total=   0.9s\n",
      "[CV]  learning_rate=0.001, max_depth=5, n_estimators=200 .............\n",
      "[CV]   learning_rate=0.001, max_depth=5, n_estimators=200, score=0.838, total=   1.1s\n",
      "[CV]  learning_rate=0.001, max_depth=5, n_estimators=200 .............\n",
      "[CV]   learning_rate=0.001, max_depth=5, n_estimators=200, score=0.838, total=   1.1s\n",
      "[CV]  learning_rate=0.001, max_depth=5, n_estimators=200 .............\n",
      "[CV]   learning_rate=0.001, max_depth=5, n_estimators=200, score=0.837, total=   0.8s\n",
      "[CV]  learning_rate=0.001, max_depth=5, n_estimators=200 .............\n",
      "[CV]   learning_rate=0.001, max_depth=5, n_estimators=200, score=0.835, total=   0.9s\n",
      "[CV]  learning_rate=0.001, max_depth=10, n_estimators=10 .............\n",
      "[CV]   learning_rate=0.001, max_depth=10, n_estimators=10, score=0.838, total=   0.1s\n",
      "[CV]  learning_rate=0.001, max_depth=10, n_estimators=10 .............\n",
      "[CV]   learning_rate=0.001, max_depth=10, n_estimators=10, score=0.834, total=   0.1s\n",
      "[CV]  learning_rate=0.001, max_depth=10, n_estimators=10 .............\n",
      "[CV]   learning_rate=0.001, max_depth=10, n_estimators=10, score=0.839, total=   0.1s\n",
      "[CV]  learning_rate=0.001, max_depth=10, n_estimators=10 .............\n",
      "[CV]   learning_rate=0.001, max_depth=10, n_estimators=10, score=0.839, total=   0.1s\n",
      "[CV]  learning_rate=0.001, max_depth=10, n_estimators=10 .............\n",
      "[CV]   learning_rate=0.001, max_depth=10, n_estimators=10, score=0.833, total=   0.1s\n",
      "[CV]  learning_rate=0.001, max_depth=10, n_estimators=50 .............\n",
      "[CV]   learning_rate=0.001, max_depth=10, n_estimators=50, score=0.838, total=   0.3s\n",
      "[CV]  learning_rate=0.001, max_depth=10, n_estimators=50 .............\n",
      "[CV]   learning_rate=0.001, max_depth=10, n_estimators=50, score=0.836, total=   0.4s\n",
      "[CV]  learning_rate=0.001, max_depth=10, n_estimators=50 .............\n",
      "[CV]   learning_rate=0.001, max_depth=10, n_estimators=50, score=0.840, total=   0.4s\n",
      "[CV]  learning_rate=0.001, max_depth=10, n_estimators=50 .............\n",
      "[CV]   learning_rate=0.001, max_depth=10, n_estimators=50, score=0.839, total=   0.4s\n",
      "[CV]  learning_rate=0.001, max_depth=10, n_estimators=50 .............\n",
      "[CV]   learning_rate=0.001, max_depth=10, n_estimators=50, score=0.836, total=   0.4s\n",
      "[CV]  learning_rate=0.001, max_depth=10, n_estimators=100 ............\n",
      "[CV]   learning_rate=0.001, max_depth=10, n_estimators=100, score=0.834, total=   0.7s\n",
      "[CV]  learning_rate=0.001, max_depth=10, n_estimators=100 ............\n",
      "[CV]   learning_rate=0.001, max_depth=10, n_estimators=100, score=0.834, total=   0.9s\n",
      "[CV]  learning_rate=0.001, max_depth=10, n_estimators=100 ............\n",
      "[CV]   learning_rate=0.001, max_depth=10, n_estimators=100, score=0.835, total=   0.9s\n",
      "[CV]  learning_rate=0.001, max_depth=10, n_estimators=100 ............\n",
      "[CV]   learning_rate=0.001, max_depth=10, n_estimators=100, score=0.836, total=   0.8s\n",
      "[CV]  learning_rate=0.001, max_depth=10, n_estimators=100 ............\n",
      "[CV]   learning_rate=0.001, max_depth=10, n_estimators=100, score=0.836, total=   0.9s\n",
      "[CV]  learning_rate=0.001, max_depth=10, n_estimators=200 ............\n",
      "[CV]   learning_rate=0.001, max_depth=10, n_estimators=200, score=0.832, total=   1.6s\n",
      "[CV]  learning_rate=0.001, max_depth=10, n_estimators=200 ............\n",
      "[CV]   learning_rate=0.001, max_depth=10, n_estimators=200, score=0.823, total=   1.7s\n",
      "[CV]  learning_rate=0.001, max_depth=10, n_estimators=200 ............\n",
      "[CV]   learning_rate=0.001, max_depth=10, n_estimators=200, score=0.827, total=   2.2s\n",
      "[CV]  learning_rate=0.001, max_depth=10, n_estimators=200 ............\n",
      "[CV]   learning_rate=0.001, max_depth=10, n_estimators=200, score=0.831, total=   1.8s\n",
      "[CV]  learning_rate=0.001, max_depth=10, n_estimators=200 ............\n",
      "[CV]   learning_rate=0.001, max_depth=10, n_estimators=200, score=0.828, total=   1.4s\n",
      "[CV]  learning_rate=0.001, max_depth=20, n_estimators=10 .............\n",
      "[CV]   learning_rate=0.001, max_depth=20, n_estimators=10, score=0.831, total=   0.1s\n",
      "[CV]  learning_rate=0.001, max_depth=20, n_estimators=10 .............\n",
      "[CV]   learning_rate=0.001, max_depth=20, n_estimators=10, score=0.825, total=   0.1s\n",
      "[CV]  learning_rate=0.001, max_depth=20, n_estimators=10 .............\n",
      "[CV]   learning_rate=0.001, max_depth=20, n_estimators=10, score=0.830, total=   0.1s\n",
      "[CV]  learning_rate=0.001, max_depth=20, n_estimators=10 .............\n",
      "[CV]   learning_rate=0.001, max_depth=20, n_estimators=10, score=0.832, total=   0.1s\n",
      "[CV]  learning_rate=0.001, max_depth=20, n_estimators=10 .............\n",
      "[CV]   learning_rate=0.001, max_depth=20, n_estimators=10, score=0.830, total=   0.1s\n",
      "[CV]  learning_rate=0.001, max_depth=20, n_estimators=50 .............\n",
      "[CV]   learning_rate=0.001, max_depth=20, n_estimators=50, score=0.825, total=   0.7s\n",
      "[CV]  learning_rate=0.001, max_depth=20, n_estimators=50 .............\n",
      "[CV]   learning_rate=0.001, max_depth=20, n_estimators=50, score=0.819, total=   0.9s\n",
      "[CV]  learning_rate=0.001, max_depth=20, n_estimators=50 .............\n",
      "[CV]   learning_rate=0.001, max_depth=20, n_estimators=50, score=0.825, total=   0.8s\n",
      "[CV]  learning_rate=0.001, max_depth=20, n_estimators=50 .............\n",
      "[CV]   learning_rate=0.001, max_depth=20, n_estimators=50, score=0.828, total=   0.8s\n",
      "[CV]  learning_rate=0.001, max_depth=20, n_estimators=50 .............\n",
      "[CV]   learning_rate=0.001, max_depth=20, n_estimators=50, score=0.828, total=   0.7s\n",
      "[CV]  learning_rate=0.001, max_depth=20, n_estimators=100 ............\n",
      "[CV]   learning_rate=0.001, max_depth=20, n_estimators=100, score=0.821, total=   1.2s\n",
      "[CV]  learning_rate=0.001, max_depth=20, n_estimators=100 ............\n",
      "[CV]   learning_rate=0.001, max_depth=20, n_estimators=100, score=0.810, total=   1.2s\n",
      "[CV]  learning_rate=0.001, max_depth=20, n_estimators=100 ............\n",
      "[CV]   learning_rate=0.001, max_depth=20, n_estimators=100, score=0.818, total=   1.5s\n",
      "[CV]  learning_rate=0.001, max_depth=20, n_estimators=100 ............\n",
      "[CV]   learning_rate=0.001, max_depth=20, n_estimators=100, score=0.826, total=   1.4s\n",
      "[CV]  learning_rate=0.001, max_depth=20, n_estimators=100 ............\n",
      "[CV]   learning_rate=0.001, max_depth=20, n_estimators=100, score=0.825, total=   1.7s\n",
      "[CV]  learning_rate=0.001, max_depth=20, n_estimators=200 ............\n",
      "[CV]   learning_rate=0.001, max_depth=20, n_estimators=200, score=0.819, total=   3.0s\n",
      "[CV]  learning_rate=0.001, max_depth=20, n_estimators=200 ............\n",
      "[CV]   learning_rate=0.001, max_depth=20, n_estimators=200, score=0.802, total=   3.3s\n",
      "[CV]  learning_rate=0.001, max_depth=20, n_estimators=200 ............\n",
      "[CV]   learning_rate=0.001, max_depth=20, n_estimators=200, score=0.811, total=   3.4s\n",
      "[CV]  learning_rate=0.001, max_depth=20, n_estimators=200 ............\n",
      "[CV]   learning_rate=0.001, max_depth=20, n_estimators=200, score=0.819, total=   3.5s\n",
      "[CV]  learning_rate=0.001, max_depth=20, n_estimators=200 ............\n",
      "[CV]   learning_rate=0.001, max_depth=20, n_estimators=200, score=0.814, total=   2.8s\n",
      "[CV]  learning_rate=0.001, max_depth=50, n_estimators=10 .............\n",
      "[CV]   learning_rate=0.001, max_depth=50, n_estimators=10, score=0.831, total=   0.1s\n",
      "[CV]  learning_rate=0.001, max_depth=50, n_estimators=10 .............\n",
      "[CV]   learning_rate=0.001, max_depth=50, n_estimators=10, score=0.823, total=   0.2s\n",
      "[CV]  learning_rate=0.001, max_depth=50, n_estimators=10 .............\n",
      "[CV]   learning_rate=0.001, max_depth=50, n_estimators=10, score=0.830, total=   0.2s\n",
      "[CV]  learning_rate=0.001, max_depth=50, n_estimators=10 .............\n",
      "[CV]   learning_rate=0.001, max_depth=50, n_estimators=10, score=0.832, total=   0.1s\n",
      "[CV]  learning_rate=0.001, max_depth=50, n_estimators=10 .............\n"
     ]
    },
    {
     "name": "stdout",
     "output_type": "stream",
     "text": [
      "[CV]   learning_rate=0.001, max_depth=50, n_estimators=10, score=0.830, total=   0.2s\n",
      "[CV]  learning_rate=0.001, max_depth=50, n_estimators=50 .............\n",
      "[CV]   learning_rate=0.001, max_depth=50, n_estimators=50, score=0.812, total=   1.9s\n",
      "[CV]  learning_rate=0.001, max_depth=50, n_estimators=50 .............\n",
      "[CV]   learning_rate=0.001, max_depth=50, n_estimators=50, score=0.809, total=   1.6s\n",
      "[CV]  learning_rate=0.001, max_depth=50, n_estimators=50 .............\n",
      "[CV]   learning_rate=0.001, max_depth=50, n_estimators=50, score=0.811, total=   1.8s\n",
      "[CV]  learning_rate=0.001, max_depth=50, n_estimators=50 .............\n",
      "[CV]   learning_rate=0.001, max_depth=50, n_estimators=50, score=0.822, total=   1.9s\n",
      "[CV]  learning_rate=0.001, max_depth=50, n_estimators=50 .............\n",
      "[CV]   learning_rate=0.001, max_depth=50, n_estimators=50, score=0.823, total=   1.9s\n",
      "[CV]  learning_rate=0.001, max_depth=50, n_estimators=100 ............\n",
      "[CV]   learning_rate=0.001, max_depth=50, n_estimators=100, score=0.807, total=   2.9s\n",
      "[CV]  learning_rate=0.001, max_depth=50, n_estimators=100 ............\n",
      "[CV]   learning_rate=0.001, max_depth=50, n_estimators=100, score=0.799, total=   2.7s\n",
      "[CV]  learning_rate=0.001, max_depth=50, n_estimators=100 ............\n",
      "[CV]   learning_rate=0.001, max_depth=50, n_estimators=100, score=0.804, total=   2.7s\n",
      "[CV]  learning_rate=0.001, max_depth=50, n_estimators=100 ............\n",
      "[CV]   learning_rate=0.001, max_depth=50, n_estimators=100, score=0.807, total=   2.7s\n",
      "[CV]  learning_rate=0.001, max_depth=50, n_estimators=100 ............\n",
      "[CV]   learning_rate=0.001, max_depth=50, n_estimators=100, score=0.814, total=   2.9s\n",
      "[CV]  learning_rate=0.001, max_depth=50, n_estimators=200 ............\n",
      "[CV]   learning_rate=0.001, max_depth=50, n_estimators=200, score=0.799, total=   5.7s\n",
      "[CV]  learning_rate=0.001, max_depth=50, n_estimators=200 ............\n",
      "[CV]   learning_rate=0.001, max_depth=50, n_estimators=200, score=0.787, total=   5.8s\n",
      "[CV]  learning_rate=0.001, max_depth=50, n_estimators=200 ............\n",
      "[CV]   learning_rate=0.001, max_depth=50, n_estimators=200, score=0.801, total=   5.6s\n",
      "[CV]  learning_rate=0.001, max_depth=50, n_estimators=200 ............\n",
      "[CV]   learning_rate=0.001, max_depth=50, n_estimators=200, score=0.805, total=   5.6s\n",
      "[CV]  learning_rate=0.001, max_depth=50, n_estimators=200 ............\n",
      "[CV]   learning_rate=0.001, max_depth=50, n_estimators=200, score=0.801, total=   6.3s\n"
     ]
    },
    {
     "name": "stderr",
     "output_type": "stream",
     "text": [
      "[Parallel(n_jobs=1)]: Done 500 out of 500 | elapsed:  8.5min finished\n"
     ]
    },
    {
     "data": {
      "text/plain": [
       "GridSearchCV(cv=None, error_score=nan,\n",
       "             estimator=XGBClassifier(base_score=0.5, booster='gbtree',\n",
       "                                     colsample_bylevel=1, colsample_bynode=1,\n",
       "                                     colsample_bytree=1, gamma=0,\n",
       "                                     learning_rate=0.1, max_delta_step=0,\n",
       "                                     max_depth=3, min_child_weight=1,\n",
       "                                     missing=None, n_estimators=100, n_jobs=1,\n",
       "                                     nthread=None, objective='binary:logistic',\n",
       "                                     random_state=0, reg_alpha=0, reg_lambda=1,\n",
       "                                     scale_pos_weight=1, seed=None, silent=None,\n",
       "                                     subsample=1, verbosity=1),\n",
       "             iid='deprecated', n_jobs=None,\n",
       "             param_grid={' learning_rate': [1, 0.5, 0.1, 0.01, 0.001],\n",
       "                         'max_depth': [3, 5, 10, 20, 50],\n",
       "                         'n_estimators': [10, 50, 100, 200]},\n",
       "             pre_dispatch='2*n_jobs', refit=True, return_train_score=False,\n",
       "             scoring=None, verbose=3)"
      ]
     },
     "execution_count": 83,
     "metadata": {},
     "output_type": "execute_result"
    }
   ],
   "source": [
    "grid.fit(X_train,y_train)"
   ]
  },
  {
   "cell_type": "code",
   "execution_count": 84,
   "metadata": {},
   "outputs": [
    {
     "data": {
      "text/plain": [
       "{' learning_rate': 1, 'max_depth': 3, 'n_estimators': 50}"
      ]
     },
     "execution_count": 84,
     "metadata": {},
     "output_type": "execute_result"
    }
   ],
   "source": [
    "grid.best_params_"
   ]
  },
  {
   "cell_type": "code",
   "execution_count": 88,
   "metadata": {},
   "outputs": [
    {
     "name": "stdout",
     "output_type": "stream",
     "text": [
      "[0.8366388308977035, 0.8324634655532359, 0.8376826722338204, 0.8261096605744125, 0.44699738903394254]\n"
     ]
    }
   ],
   "source": [
    "accuracy_XG=[]\n",
    "skf.get_n_splits(X,y)\n",
    "for train_index,test_index in skf.split(X,y):\n",
    "    X_train, X_test = X.iloc[train_index], X.iloc[test_index]\n",
    "    y_train, y_test = y.iloc[train_index], y.iloc[test_index]\n",
    "    \n",
    "    XG=XGBClassifier(learning_rate=1,max_depth=3,n_estimators=50,objective='binary:logistic')\n",
    "    XG.fit(X_train,y_train)\n",
    "    XG_preds=XG.predict(X_test)\n",
    "    score=accuracy_score(XG_preds,y_test)\n",
    "    accuracy_XG.append(score)\n",
    "    \n",
    "print(accuracy_XG)"
   ]
  },
  {
   "cell_type": "code",
   "execution_count": 89,
   "metadata": {},
   "outputs": [
    {
     "data": {
      "text/plain": [
       "0.755978403658623"
      ]
     },
     "execution_count": 89,
     "metadata": {},
     "output_type": "execute_result"
    }
   ],
   "source": [
    "np.array(accuracy_XG).mean()"
   ]
  },
  {
   "cell_type": "code",
   "execution_count": 90,
   "metadata": {},
   "outputs": [
    {
     "name": "stdout",
     "output_type": "stream",
     "text": [
      "              precision    recall  f1-score   support\n",
      "\n",
      "           0       0.91      0.38      0.53      1609\n",
      "           1       0.20      0.81      0.32       306\n",
      "\n",
      "    accuracy                           0.45      1915\n",
      "   macro avg       0.56      0.60      0.43      1915\n",
      "weighted avg       0.80      0.45      0.50      1915\n",
      "\n",
      "[[ 607 1002]\n",
      " [  57  249]]\n"
     ]
    }
   ],
   "source": [
    "print(classification_report(y_test,XG_preds))\n",
    "print(confusion_matrix(y_test,XG_preds))"
   ]
  },
  {
   "cell_type": "markdown",
   "metadata": {},
   "source": [
    "More feature Engineering is required !"
   ]
  },
  {
   "cell_type": "code",
   "execution_count": null,
   "metadata": {},
   "outputs": [],
   "source": []
  }
 ],
 "metadata": {
  "kernelspec": {
   "display_name": "Python 3",
   "language": "python",
   "name": "python3"
  },
  "language_info": {
   "codemirror_mode": {
    "name": "ipython",
    "version": 3
   },
   "file_extension": ".py",
   "mimetype": "text/x-python",
   "name": "python",
   "nbconvert_exporter": "python",
   "pygments_lexer": "ipython3",
   "version": "3.7.6"
  }
 },
 "nbformat": 4,
 "nbformat_minor": 4
}
